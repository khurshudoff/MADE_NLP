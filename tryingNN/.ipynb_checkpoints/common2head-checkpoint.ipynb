{
 "cells": [
  {
   "cell_type": "code",
   "execution_count": 1,
   "metadata": {},
   "outputs": [],
   "source": [
    "import numpy as np\n",
    "import pandas as pd\n",
    "import matplotlib.pyplot as plt\n",
    "import random as rd\n",
    "\n",
    "import torch\n",
    "from torch import nn\n",
    "import torch.nn.functional as F\n",
    "from torch.optim.lr_scheduler import ReduceLROnPlateau"
   ]
  },
  {
   "cell_type": "code",
   "execution_count": 2,
   "metadata": {},
   "outputs": [],
   "source": [
    "def f(x, y):\n",
    "    noise = (rd.random()-.5) * 2\n",
    "    return x**2 + y**3 + noise"
   ]
  },
  {
   "cell_type": "code",
   "execution_count": 3,
   "metadata": {},
   "outputs": [],
   "source": [
    "x_train = [[(rd.random()-.5) * 5, (rd.random()-.5) * 5] for _ in range(100)]\n",
    "y_train = [f(x[0], x[1]) for x in x_train]"
   ]
  },
  {
   "cell_type": "code",
   "execution_count": 4,
   "metadata": {},
   "outputs": [],
   "source": [
    "class SimpleNN(nn.Module):\n",
    "    def __init__(self):\n",
    "        super(self.__class__, self).__init__()\n",
    "        self.linear1 = nn.Linear(2, 2)\n",
    "        self.linear2 = nn.Linear(2, 2)\n",
    "        self.linear3 = nn.Linear(2, 1)\n",
    "\n",
    "    def forward(self, x):\n",
    "        x = self.linear1(x)\n",
    "        x = self.linear2(x)\n",
    "        res = self.linear3(x)\n",
    "        return res"
   ]
  },
  {
   "cell_type": "code",
   "execution_count": 5,
   "metadata": {},
   "outputs": [],
   "source": [
    "model = SimpleNN()\n",
    "opt = torch.optim.Adam(model.parameters())\n",
    "lr_sched = ReduceLROnPlateau(opt, factor=0.3)\n",
    "criterion = nn.MSELoss()"
   ]
  },
  {
   "cell_type": "code",
   "execution_count": 6,
   "metadata": {},
   "outputs": [],
   "source": [
    "x_train_batched = [x_train[i * 10:(i + 1) * 10] for i in range(len(x_train) // 10)]\n",
    "y_train_batched = [y_train[i * 10:(i + 1) * 10] for i in range(len(x_train) // 10)]"
   ]
  },
  {
   "cell_type": "code",
   "execution_count": 7,
   "metadata": {},
   "outputs": [],
   "source": [
    "ITER = 1000\n",
    "\n",
    "loss_arr = []\n",
    "\n",
    "for it in range(ITER):\n",
    "    iter_loss = 0\n",
    "    for i in range(len(x_train_batched)):\n",
    "        x = x_train_batched[i]\n",
    "        y = y_train_batched[i]\n",
    "        \n",
    "        x = torch.tensor(x)\n",
    "        y = torch.tensor(y).view(-1, 1)\n",
    "        \n",
    "        pred = model.forward(x)\n",
    "        \n",
    "        loss = criterion(pred, y)\n",
    "        iter_loss += loss.detach().numpy()\n",
    "        \n",
    "        loss.backward()\n",
    "        opt.step()\n",
    "        opt.zero_grad()\n",
    "    loss_arr.append(iter_loss)"
   ]
  },
  {
   "cell_type": "code",
   "execution_count": 8,
   "metadata": {},
   "outputs": [
    {
     "name": "stdout",
     "output_type": "stream",
     "text": [
      "[94.75261306762695, 94.75260925292969, 94.7526159286499, 94.75261306762695, 94.75261068344116]\n"
     ]
    },
    {
     "data": {
      "image/png": "[encoded data removed]",
      "text/plain": [
       "<Figure size 1080x576 with 1 Axes>"
      ]
     },
     "metadata": {
      "needs_background": "light"
     },
     "output_type": "display_data"
    }
   ],
   "source": [
    "plt.figure(figsize=(15, 8))\n",
    "plt.plot(loss_arr)\n",
    "print(loss_arr[-5:])"
   ]
  },
  {
   "cell_type": "code",
   "execution_count": 10,
   "metadata": {},
   "outputs": [
    {
     "data": {
      "text/plain": [
       "(tensor([8.5240], grad_fn=<AddBackward0>), 8.324801118536564)"
      ]
     },
     "execution_count": 10,
     "metadata": {},
     "output_type": "execute_result"
    }
   ],
   "source": [
    "model.forward(torch.tensor(x_train[10])), y_train[10]"
   ]
  },
  {
   "cell_type": "code",
   "execution_count": null,
   "metadata": {},
   "outputs": [],
   "source": []
  }
 ],
 "metadata": {
  "kernelspec": {
   "display_name": "pyvenv",
   "language": "python",
   "name": "pyvenv"
  },
  "language_info": {
   "codemirror_mode": {
    "name": "ipython",
    "version": 3
   },
   "file_extension": ".py",
   "mimetype": "text/x-python",
   "name": "python",
   "nbconvert_exporter": "python",
   "pygments_lexer": "ipython3",
   "version": "3.8.2"
  }
 },
 "nbformat": 4,
 "nbformat_minor": 4
}
