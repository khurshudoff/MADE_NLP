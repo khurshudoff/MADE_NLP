{
 "cells": [
  {
   "cell_type": "markdown",
   "metadata": {},
   "source": [
    "## Homework 01. Simple text processing."
   ]
  },
  {
   "cell_type": "code",
   "execution_count": 1,
   "metadata": {},
   "outputs": [],
   "source": [
    "import numpy as np\n",
    "import matplotlib.pyplot as plt\n",
    "%matplotlib inline\n",
    "import pandas as pd\n",
    "from IPython import display"
   ]
  },
  {
   "cell_type": "markdown",
   "metadata": {},
   "source": [
    "### Toxic or not\n",
    "Your main goal in this assignment is to classify, whether the comments are toxic or not. And practice with both classical approaches and PyTorch in the process.\n",
    "\n",
    "*Credits: This homework is inspired by YSDA NLP_course.*"
   ]
  },
  {
   "cell_type": "code",
   "execution_count": 2,
   "metadata": {},
   "outputs": [],
   "source": [
    "# In colab uncomment this cell\n",
    "# ! wget https://raw.githubusercontent.com/neychev/made_nlp_course/master/homeworks/homework01/utils.py -nc"
   ]
  },
  {
   "cell_type": "code",
   "execution_count": 3,
   "metadata": {},
   "outputs": [],
   "source": [
    "try:\n",
    "    data = pd.read_csv('../../made_nlp_course/datasets/comments_small_dataset/comments.tsv', sep='\\t')\n",
    "except FileNotFoundError:\n",
    "    ! wget https://raw.githubusercontent.com/neychev/made_nlp_course/master/datasets/comments_small_dataset/comments.tsv -nc\n",
    "    data = pd.read_csv(\"comments.tsv\", sep='\\t')"
   ]
  },
  {
   "cell_type": "code",
   "execution_count": 4,
   "metadata": {},
   "outputs": [
    {
     "data": {
      "text/html": [
       "<div>\n",
       "<style scoped>\n",
       "    .dataframe tbody tr th:only-of-type {\n",
       "        vertical-align: middle;\n",
       "    }\n",
       "\n",
       "    .dataframe tbody tr th {\n",
       "        vertical-align: top;\n",
       "    }\n",
       "\n",
       "    .dataframe thead th {\n",
       "        text-align: right;\n",
       "    }\n",
       "</style>\n",
       "<table border=\"1\" class=\"dataframe\">\n",
       "  <thead>\n",
       "    <tr style=\"text-align: right;\">\n",
       "      <th></th>\n",
       "      <th>should_ban</th>\n",
       "      <th>comment_text</th>\n",
       "    </tr>\n",
       "  </thead>\n",
       "  <tbody>\n",
       "    <tr>\n",
       "      <th>50</th>\n",
       "      <td>0</td>\n",
       "      <td>\"Those who're in advantageous positions are th...</td>\n",
       "    </tr>\n",
       "    <tr>\n",
       "      <th>250</th>\n",
       "      <td>1</td>\n",
       "      <td>Fartsalot56 says f**k you motherclucker!!</td>\n",
       "    </tr>\n",
       "    <tr>\n",
       "      <th>450</th>\n",
       "      <td>1</td>\n",
       "      <td>Are you a fool? \\n\\nI am sorry, but you seem t...</td>\n",
       "    </tr>\n",
       "    <tr>\n",
       "      <th>650</th>\n",
       "      <td>1</td>\n",
       "      <td>I AM NOT A VANDAL!!!!!!!!!!!!!!!!!!!!!!!!!!!!!!</td>\n",
       "    </tr>\n",
       "    <tr>\n",
       "      <th>850</th>\n",
       "      <td>0</td>\n",
       "      <td>Citing sources\\n\\nCheck out the Wikipedia:Citi...</td>\n",
       "    </tr>\n",
       "  </tbody>\n",
       "</table>\n",
       "</div>"
      ],
      "text/plain": [
       "     should_ban                                       comment_text\n",
       "50            0  \"Those who're in advantageous positions are th...\n",
       "250           1          Fartsalot56 says f**k you motherclucker!!\n",
       "450           1  Are you a fool? \\n\\nI am sorry, but you seem t...\n",
       "650           1    I AM NOT A VANDAL!!!!!!!!!!!!!!!!!!!!!!!!!!!!!!\n",
       "850           0  Citing sources\\n\\nCheck out the Wikipedia:Citi..."
      ]
     },
     "execution_count": 4,
     "metadata": {},
     "output_type": "execute_result"
    }
   ],
   "source": [
    "texts = data['comment_text'].values\n",
    "target = data['should_ban'].values\n",
    "data[50::200]"
   ]
  },
  {
   "cell_type": "code",
   "execution_count": 5,
   "metadata": {},
   "outputs": [],
   "source": [
    "from sklearn.model_selection import train_test_split\n",
    "texts_train, texts_test, y_train, y_test = train_test_split(texts, target, test_size=0.5, random_state=42)"
   ]
  },
  {
   "cell_type": "markdown",
   "metadata": {},
   "source": [
    "__Note:__ it is generally a good idea to split data into train/test before anything is done to them.\n",
    "\n",
    "It guards you against possible data leakage in the preprocessing stage. For example, should you decide to select words present in obscene tweets as features, you should only count those words over the training set. Otherwise your algoritm can cheat evaluation."
   ]
  },
  {
   "cell_type": "markdown",
   "metadata": {
    "collapsed": "true"
   },
   "source": [
    "### Preprocessing and tokenization\n",
    "\n",
    "Comments contain raw text with punctuation, upper/lowercase letters and even newline symbols.\n",
    "\n",
    "To simplify all further steps, we'll split text into space-separated tokens using one of nltk tokenizers.\n",
    "\n",
    "Generally, library `nltk` [link](https://www.nltk.org) is widely used in NLP. It is not necessary in here, but mentioned to intoduce it to you."
   ]
  },
  {
   "cell_type": "code",
   "execution_count": 6,
   "metadata": {},
   "outputs": [
    {
     "name": "stdout",
     "output_type": "stream",
     "text": [
      "before: How to be a grown-up at work: replace \"I don't want to do that\" with \"Ok, great!\".\n",
      "after: how to be a grown-up at work : replace \" i don't want to do that \" with \" ok , great ! \" .\n"
     ]
    }
   ],
   "source": [
    "from nltk.tokenize import TweetTokenizer\n",
    "tokenizer = TweetTokenizer()\n",
    "preprocess = lambda text: ' '.join(tokenizer.tokenize(text.lower()))\n",
    "\n",
    "text = 'How to be a grown-up at work: replace \"I don\\'t want to do that\" with \"Ok, great!\".'\n",
    "print(\"before:\", text,)\n",
    "print(\"after:\", preprocess(text),)"
   ]
  },
  {
   "cell_type": "code",
   "execution_count": 7,
   "metadata": {},
   "outputs": [],
   "source": [
    "# task: preprocess each comment in train and test\n",
    "\n",
    "texts_train = [preprocess(el) for el in texts_train] #<YOUR CODE>\n",
    "texts_test = [preprocess(el) for el in texts_test]#<YOUR CODE>"
   ]
  },
  {
   "cell_type": "code",
   "execution_count": 8,
   "metadata": {},
   "outputs": [],
   "source": [
    "# Small check that everything is done properly\n",
    "assert texts_train[5] ==  'who cares anymore . they attack with impunity .'\n",
    "assert texts_test[89] == 'hey todds ! quick q ? why are you so gay'\n",
    "assert len(texts_test) == len(y_test)"
   ]
  },
  {
   "cell_type": "markdown",
   "metadata": {
    "collapsed": "true"
   },
   "source": [
    "### Step 1: bag of words\n",
    "\n",
    "One traditional approach to such problem is to use bag of words features:\n",
    "1. build a vocabulary of frequent words (use train data only)\n",
    "2. for each training sample, count the number of times a word occurs in it (for each word in vocabulary).\n",
    "3. consider this count a feature for some classifier\n",
    "\n",
    "__Note:__ in practice, you can compute such features using sklearn. __Please don't do that in the current assignment, though.__\n",
    "* `from sklearn.feature_extraction.text import CountVectorizer, TfidfVectorizer`"
   ]
  },
  {
   "cell_type": "code",
   "execution_count": 9,
   "metadata": {},
   "outputs": [
    {
     "name": "stdout",
     "output_type": "stream",
     "text": [
      "example features: ['!', '12:20', '300', '^', 'adopted', 'alternate', 'archimedes', 'available', 'benidorm', 'bound', 'cambridge', 'cherokee', 'combination', 'consumer', 'creeping', 'decision', 'dick', 'dollar', 'educational', 'essence', 'fagget', 'fired', 'front', 'goaded', 'hands', 'hinders', 'identical', 'infobox', 'israelis', 'kind', \"let's\", 'lost', 'mckenna', 'moderation', 'nationality', 'notice', 'opposed', 'pc', 'planet', 'pretend', 'punchline', 'reasons', 'repeating', 'rhetorical', 'schools', 'sheeple', 'slim', 'spoken', 'stunning', 'syte', 'then', 'top', 'ugly', 'users', 'want', \"wiki's\", 'yeah', 'ி']\n"
     ]
    }
   ],
   "source": [
    "from collections import Counter\n",
    "\n",
    "# task: find up to k most frequent tokens in texts_train,\n",
    "# sort them by number of occurences (highest first)\n",
    "k = min(10000, len(set(' '.join(texts_train).split())))\n",
    "\n",
    "cv = Counter(' '.join(texts_train).split())#<YOUR CODE>\n",
    "\n",
    "bow_vocabulary = [el[0] for el in sorted(cv.items(), key=lambda x:x[1], reverse=True)[:k]]#<YOUR CODE>\n",
    "bow_vocabulary.append('<unknown>')\n",
    "\n",
    "print('example features:', sorted(bow_vocabulary)[::100])"
   ]
  },
  {
   "cell_type": "code",
   "execution_count": 10,
   "metadata": {},
   "outputs": [],
   "source": [
    "def text_to_bow(text):\n",
    "    \"\"\" convert text string to an array of token counts. Use bow_vocabulary. \"\"\"\n",
    "    res = np.zeros(len(bow_vocabulary))\n",
    "    cv = Counter(text.split())\n",
    "    for w, amm in cv.items():\n",
    "        if w in bow_vocabulary:\n",
    "            res[bow_vocabulary.index(w)] = amm\n",
    "        else:\n",
    "            res[len(bow_vocabulary) - 1] += amm\n",
    "\n",
    "    return np.array(res, 'float32')\n"
   ]
  },
  {
   "cell_type": "code",
   "execution_count": 11,
   "metadata": {},
   "outputs": [],
   "source": [
    "X_train_bow = np.stack(list(map(text_to_bow, texts_train)))\n",
    "X_test_bow = np.stack(list(map(text_to_bow, texts_test)))"
   ]
  },
  {
   "cell_type": "code",
   "execution_count": 12,
   "metadata": {},
   "outputs": [],
   "source": [
    "# Small check that everything is done properly\n",
    "k_max = len(set(' '.join(texts_train).split()))\n",
    "assert X_train_bow.shape == (len(texts_train), min(k, k_max) + 1)\n",
    "assert X_test_bow.shape == (len(texts_test), min(k, k_max) + 1)\n",
    "assert np.all(X_train_bow[5:10].sum(-1) == np.array([len(s.split()) for s in  texts_train[5:10]]))\n",
    "assert len(bow_vocabulary) <= min(k, k_max) + 1\n",
    "assert X_train_bow[6, bow_vocabulary.index('.')] == texts_train[6].split().count('.')"
   ]
  },
  {
   "cell_type": "markdown",
   "metadata": {},
   "source": [
    "Now let's do the trick with `sklearn` logistic regression implementation:"
   ]
  },
  {
   "cell_type": "code",
   "execution_count": 13,
   "metadata": {},
   "outputs": [],
   "source": [
    "from sklearn.linear_model import LogisticRegression\n",
    "bow_model = LogisticRegression().fit(X_train_bow, y_train)"
   ]
  },
  {
   "cell_type": "code",
   "execution_count": 18,
   "metadata": {},
   "outputs": [],
   "source": [
    "from sklearn.metrics import roc_auc_score, roc_curve\n",
    "\n",
    "for name, X, y, model in [\n",
    "    ('train', X_train_bow, y_train, bow_model),\n",
    "    ('test ', X_test_bow, y_test, bow_model)\n",
    "]:\n",
    "    proba = model.predict_proba(X)[:, 1]\n",
    "    auc = roc_auc_score(y, proba)\n",
    "    plt.plot(*roc_curve(y, proba)[:2], label='%s AUC=%.4f' % (name, auc))\n",
    "\n",
    "plt.plot([0, 1], [0, 1], '--', color='black',)\n",
    "plt.legend(fontsize='large')\n",
    "plt.grid()"
   ]
  },
  {
   "cell_type": "markdown",
   "metadata": {},
   "source": [
    "Seems alright. Now let's create the simple logistic regression using PyTorch. Just like in the classwork."
   ]
  },
  {
   "cell_type": "code",
   "execution_count": 15,
   "metadata": {},
   "outputs": [],
   "source": [
    "import torch\n",
    "from torch import nn\n",
    "from torch.nn import functional as F\n",
    "from torch.optim.lr_scheduler import StepLR, ReduceLROnPlateau\n",
    "\n",
    "from sklearn.metrics import accuracy_score"
   ]
  },
  {
   "cell_type": "code",
   "execution_count": 16,
   "metadata": {},
   "outputs": [],
   "source": [
    "from utils import plot_train_process"
   ]
  },
  {
   "cell_type": "code",
   "execution_count": 17,
   "metadata": {},
   "outputs": [],
   "source": [
    "inp_shape = X_train_bow.shape[1]"
   ]
  },
  {
   "cell_type": "code",
   "execution_count": 18,
   "metadata": {},
   "outputs": [],
   "source": [
    "model = nn.Sequential()\n",
    "\n",
    "model.add_module('l1', nn.Linear(inp_shape, 1000))### YOUR CODE HERE\n",
    "model.add_module('a1', nn.LeakyReLU(1000))\n",
    "model.add_module('l3', nn.Linear(1000, 2))"
   ]
  },
  {
   "cell_type": "markdown",
   "metadata": {},
   "source": [
    "Remember what we discussed about loss functions! `nn.CrossEntropyLoss` combines both log-softmax and `NLLLoss`.\n",
    "\n",
    "__Be careful with it! Criterion `nn.CrossEntropyLoss` with still work with log-softmax output, but it won't allow you to converge to the optimum.__ Next comes small demonstration:"
   ]
  },
  {
   "cell_type": "code",
   "execution_count": 19,
   "metadata": {},
   "outputs": [],
   "source": [
    "# loss_function = nn.NLLLoss()\n",
    "loss_function = nn.CrossEntropyLoss()"
   ]
  },
  {
   "cell_type": "code",
   "execution_count": 20,
   "metadata": {},
   "outputs": [],
   "source": [
    "opt = torch.optim.AdamW(model.parameters(), lr=3e-3)### YOUR CODE HERE\n",
    "lr_scheduler = ReduceLROnPlateau(opt, patience=5)"
   ]
  },
  {
   "cell_type": "code",
   "execution_count": 21,
   "metadata": {},
   "outputs": [],
   "source": [
    "X_train_bow_torch = torch.tensor(X_train_bow) ### YOUR CODE HERE\n",
    "X_test_bow_torch = torch.tensor(X_test_bow) ### YOUR CODE HERE\n",
    "\n",
    "y_train_torch = torch.tensor(y_train) ### YOUR CODE HERE\n",
    "y_test_torch = torch.tensor(y_test) ### YOUR CODE HERE"
   ]
  },
  {
   "cell_type": "markdown",
   "metadata": {},
   "source": [
    "Let's test that everything is fine"
   ]
  },
  {
   "cell_type": "code",
   "execution_count": 22,
   "metadata": {},
   "outputs": [],
   "source": [
    "# example loss\n",
    "loss = loss_function(model(X_train_bow_torch[:3]), y_train_torch[:3])"
   ]
  },
  {
   "cell_type": "code",
   "execution_count": 23,
   "metadata": {},
   "outputs": [],
   "source": [
    "assert type(loss.item()) == float"
   ]
  },
  {
   "cell_type": "markdown",
   "metadata": {},
   "source": [
    "Here comes small function to train the model. In future we will take in into separate file, but for this homework it's ok to implement it here. "
   ]
  },
  {
   "cell_type": "code",
   "execution_count": 115,
   "metadata": {},
   "outputs": [],
   "source": [
    "def train_model(\n",
    "    model,\n",
    "    opt,\n",
    "    lr_scheduler,\n",
    "    X_train_torch,\n",
    "    y_train_torch,\n",
    "    X_val_torch,\n",
    "    y_val_torch,\n",
    "    n_iterations=500,\n",
    "    batch_size=32,\n",
    "    warm_start=False,\n",
    "    show_plots=True,\n",
    "    eval_every=10\n",
    "):\n",
    "    if not warm_start:\n",
    "        for name, module in model.named_children():\n",
    "            print('resetting ', name)\n",
    "            try:\n",
    "                module.reset_parameters()\n",
    "            except AttributeError as e:\n",
    "                print('Cannot reset {} module parameters: {}'.format(name, e))\n",
    "\n",
    "    train_loss_history = []\n",
    "    train_acc_history = []\n",
    "    val_loss_history = []\n",
    "    val_acc_history = []\n",
    "\n",
    "    local_train_loss_history = []\n",
    "    local_train_acc_history = []\n",
    "    for i in range(n_iterations):\n",
    "\n",
    "        # sample 256 random observations\n",
    "        ix = np.random.randint(0, len(X_train_torch), batch_size)\n",
    "        x_batch = X_train_torch[ix]\n",
    "        y_batch = y_train_torch[ix]\n",
    "\n",
    "        # predict log-probabilities or logits\n",
    "        y_predicted = model(x_batch) ### YOUR CODE\n",
    "\n",
    "        # compute loss, just like before\n",
    "        ### YOUR CODE\n",
    "        loss = loss_function(y_predicted, y_batch)\n",
    "\n",
    "        # compute gradients\n",
    "        ### YOUR CODE\n",
    "        loss.backward()\n",
    "\n",
    "        # Adam step\n",
    "        ### YOUR CODE\n",
    "        opt.step()\n",
    "\n",
    "        # clear gradients\n",
    "        ### YOUR CODE\n",
    "        opt.zero_grad()\n",
    "\n",
    "        local_train_loss_history.append(loss.data.numpy())\n",
    "        local_train_acc_history.append(\n",
    "            accuracy_score(\n",
    "                y_batch.to('cpu').detach().numpy(),\n",
    "                y_predicted.to('cpu').detach().numpy().argmax(axis=1)\n",
    "            )\n",
    "        )\n",
    "\n",
    "        if i % eval_every == 0:\n",
    "            train_loss_history.append(np.mean(local_train_loss_history))\n",
    "            train_acc_history.append(np.mean(local_train_acc_history))\n",
    "            local_train_loss_history, local_train_acc_history = [], []\n",
    "\n",
    "            predictions_val = model(X_val_torch)\n",
    "            val_loss_history.append(loss_function(predictions_val, y_val_torch).to('cpu').detach().item())\n",
    "\n",
    "            acc_score_val = accuracy_score(y_val_torch.cpu().numpy(), predictions_val.to('cpu').detach().numpy().argmax(axis=1))\n",
    "            val_acc_history.append(acc_score_val)\n",
    "            lr_scheduler.step(train_loss_history[-1])\n",
    "\n",
    "            if show_plots:\n",
    "                display.clear_output(wait=True)\n",
    "                plot_train_process(train_loss_history, val_loss_history, train_acc_history, val_acc_history)\n",
    "    return model"
   ]
  },
  {
   "cell_type": "markdown",
   "metadata": {},
   "source": [
    "Let's run it on the data. Note, that here we use the `test` part of the data for validation. It's not so good idea in general, but in this task our main goal is practice."
   ]
  },
  {
   "cell_type": "code",
   "execution_count": 25,
   "metadata": {},
   "outputs": [
    {
     "data": {
      "image/png": "[encoded data removed]",
      "text/plain": [
       "<Figure size 1080x360 with 2 Axes>"
      ]
     },
     "metadata": {
      "needs_background": "light"
     },
     "output_type": "display_data"
    },
    {
     "data": {
      "text/plain": [
       "Sequential(\n",
       "  (l1): Linear(in_features=5723, out_features=1000, bias=True)\n",
       "  (a1): LeakyReLU(negative_slope=1000)\n",
       "  (l3): Linear(in_features=1000, out_features=2, bias=True)\n",
       ")"
      ]
     },
     "execution_count": 25,
     "metadata": {},
     "output_type": "execute_result"
    }
   ],
   "source": [
    "train_model(model, opt, lr_scheduler, X_train_bow_torch, y_train_torch, X_test_bow_torch, y_test_torch)"
   ]
  },
  {
   "cell_type": "code",
   "execution_count": 26,
   "metadata": {},
   "outputs": [
    {
     "data": {
      "text/plain": [
       "0.842900593829962"
      ]
     },
     "execution_count": 26,
     "metadata": {},
     "output_type": "execute_result"
    }
   ],
   "source": [
    "roc_auc_score(y_test, model(X_test_bow_torch).detach().cpu().numpy()[:, 1])"
   ]
  },
  {
   "cell_type": "code",
   "execution_count": 27,
   "metadata": {},
   "outputs": [
    {
     "data": {
      "image/png": "[encoded data removed]",
      "text/plain": [
       "<Figure size 432x288 with 1 Axes>"
      ]
     },
     "metadata": {
      "needs_background": "light"
     },
     "output_type": "display_data"
    }
   ],
   "source": [
    "from sklearn.metrics import roc_auc_score, roc_curve\n",
    "\n",
    "for name, X, y, model in [\n",
    "    ('train', X_train_bow_torch, y_train, model),\n",
    "    ('test ', X_test_bow_torch, y_test, model)\n",
    "]:\n",
    "    proba = model(X).detach().cpu().numpy()[:, 1]\n",
    "    auc = roc_auc_score(y, proba)\n",
    "    plt.plot(*roc_curve(y, proba)[:2], label='%s AUC=%.4f' % (name, auc))\n",
    "\n",
    "plt.plot([0, 1], [0, 1], '--', color='black',)\n",
    "plt.legend(fontsize='large')\n",
    "plt.grid()"
   ]
  },
  {
   "cell_type": "markdown",
   "metadata": {},
   "source": [
    "Try to vary the number of tokens `k` and check how the model performance changes. Show it on a plot."
   ]
  },
  {
   "cell_type": "code",
   "execution_count": 28,
   "metadata": {
    "collapsed": true,
    "jupyter": {
     "outputs_hidden": true
    }
   },
   "outputs": [
    {
     "name": "stdout",
     "output_type": "stream",
     "text": [
      "resetting  l1\n",
      "resetting  a1\n",
      "Cannot reset a1 module parameters: 'LeakyReLU' object has no attribute 'reset_parameters'\n",
      "resetting  l2\n",
      "resetting  l1\n",
      "resetting  a1\n",
      "Cannot reset a1 module parameters: 'LeakyReLU' object has no attribute 'reset_parameters'\n",
      "resetting  l2\n",
      "resetting  l1\n",
      "resetting  a1\n",
      "Cannot reset a1 module parameters: 'LeakyReLU' object has no attribute 'reset_parameters'\n",
      "resetting  l2\n",
      "resetting  l1\n",
      "resetting  a1\n",
      "Cannot reset a1 module parameters: 'LeakyReLU' object has no attribute 'reset_parameters'\n",
      "resetting  l2\n",
      "resetting  l1\n",
      "resetting  a1\n",
      "Cannot reset a1 module parameters: 'LeakyReLU' object has no attribute 'reset_parameters'\n",
      "resetting  l2\n",
      "resetting  l1\n",
      "resetting  a1\n",
      "Cannot reset a1 module parameters: 'LeakyReLU' object has no attribute 'reset_parameters'\n",
      "resetting  l2\n",
      "resetting  l1\n",
      "resetting  a1\n",
      "Cannot reset a1 module parameters: 'LeakyReLU' object has no attribute 'reset_parameters'\n",
      "resetting  l2\n",
      "resetting  l1\n",
      "resetting  a1\n",
      "Cannot reset a1 module parameters: 'LeakyReLU' object has no attribute 'reset_parameters'\n",
      "resetting  l2\n",
      "resetting  l1\n",
      "resetting  a1\n",
      "Cannot reset a1 module parameters: 'LeakyReLU' object has no attribute 'reset_parameters'\n",
      "resetting  l2\n",
      "resetting  l1\n",
      "resetting  a1\n",
      "Cannot reset a1 module parameters: 'LeakyReLU' object has no attribute 'reset_parameters'\n",
      "resetting  l2\n"
     ]
    }
   ],
   "source": [
    "k_arr = range(100, 2000, 200)\n",
    "aucs_train = []\n",
    "aucs_test = []\n",
    "\n",
    "for max_k in k_arr:\n",
    "    k = min(max_k, len(set(' '.join(texts_train).split())))\n",
    "\n",
    "    cv = Counter(' '.join(texts_train).split())#<YOUR CODE>\n",
    "\n",
    "    bow_vocabulary = [el[0] for el in sorted(cv.items(), key=lambda x:x[1], reverse=True)[:k]]#<YOUR CODE>\n",
    "    bow_vocabulary.append('<unknown>')\n",
    "\n",
    "    X_train_bow = np.stack(list(map(text_to_bow, texts_train)))\n",
    "    X_test_bow = np.stack(list(map(text_to_bow, texts_test)))\n",
    "\n",
    "    inp_shape = X_train_bow.shape[1]\n",
    "    model = nn.Sequential()\n",
    "    model.add_module('l1', nn.Linear(inp_shape, inp_shape))### YOUR CODE HERE\n",
    "    model.add_module('a1', nn.LeakyReLU(inp_shape))\n",
    "    model.add_module('l2', nn.Linear(inp_shape, 2))\n",
    "\n",
    "    lr_scheduler = ReduceLROnPlateau(opt, patience=5)\n",
    "    loss_function = nn.CrossEntropyLoss()\n",
    "    opt = torch.optim.AdamW(model.parameters(), lr=3e-3)### YOUR CODE HERE\n",
    "    \n",
    "    X_train_bow_torch = torch.tensor(X_train_bow) ### YOUR CODE HERE\n",
    "    X_test_bow_torch = torch.tensor(X_test_bow) ### YOUR CODE HERE\n",
    "    y_train_torch = torch.tensor(y_train) ### YOUR CODE HERE\n",
    "    y_test_torch = torch.tensor(y_test) ### YOUR CODE HERE\n",
    "    \n",
    "    train_model(model, opt, lr_scheduler, X_train_bow_torch, y_train_torch,\n",
    "                X_test_bow_torch, y_test_torch, show_plots=False)\n",
    "\n",
    "    proba = model(X_test_bow_torch).detach().cpu().numpy()[:, 1]\n",
    "    aucs_train.append(roc_auc_score(y_train, model(X_train_bow_torch).detach().cpu().numpy()[:, 1]))\n",
    "    aucs_test.append(roc_auc_score(y_test, proba))"
   ]
  },
  {
   "cell_type": "markdown",
   "metadata": {},
   "source": [
    "I was varying k in [100, 1500]. Model: k --> k --> leakyReLU --> 2"
   ]
  },
  {
   "cell_type": "code",
   "execution_count": 29,
   "metadata": {},
   "outputs": [
    {
     "name": "stdout",
     "output_type": "stream",
     "text": [
      "TEST: best vocabulary size: 900, max auc: 0.8492894961296449\n"
     ]
    },
    {
     "data": {
      "image/png": "[encoded data removed]",
      "text/plain": [
       "<Figure size 720x432 with 1 Axes>"
      ]
     },
     "metadata": {
      "needs_background": "light"
     },
     "output_type": "display_data"
    }
   ],
   "source": [
    "print('TEST: best vocabulary size: {}, max auc: {}'.format(k_arr[np.argmax(aucs_test)],\n",
    "                                             np.max(aucs_test)))\n",
    "\n",
    "plt.figure(figsize=(10,6))\n",
    "plt.grid()\n",
    "plt.plot(k_arr, aucs_train, label='auc train')\n",
    "plt.scatter(k_arr, aucs_train)\n",
    "plt.plot(k_arr, aucs_test, label='auc test')\n",
    "plt.scatter(k_arr, aucs_test)\n",
    "plt.xlabel('vocabulary size')\n",
    "plt.ylabel('AUC')\n",
    "plt.legend()\n",
    "plt.show()"
   ]
  },
  {
   "cell_type": "markdown",
   "metadata": {
    "collapsed": "true"
   },
   "source": [
    "### Step 2: implement TF-IDF features\n",
    "\n",
    "Not all words are equally useful. One can prioritize rare words and downscale words like \"and\"/\"or\" by using __tf-idf features__. This abbreviation stands for __text frequency/inverse document frequence__ and means exactly that:\n",
    "\n",
    "$$ feature_i = { Count(word_i \\in x) \\times { log {N \\over Count(word_i \\in D) + \\alpha} }}, $$\n",
    "\n",
    "\n",
    "where x is a single text, D is your dataset (a collection of texts), N is a total number of documents and $\\alpha$ is a smoothing hyperparameter (typically 1). \n",
    "And $Count(word_i \\in D)$ is the number of documents where $word_i$ appears.\n",
    "\n",
    "It may also be a good idea to normalize each data sample after computing tf-idf features.\n",
    "\n",
    "__Your task:__ implement tf-idf features, train a model and evaluate ROC curve. Compare it with basic BagOfWords model from above.\n",
    "\n",
    "__Please don't use sklearn/nltk builtin tf-idf vectorizers in your solution :)__ You can still use 'em for debugging though."
   ]
  },
  {
   "cell_type": "markdown",
   "metadata": {},
   "source": [
    "Blog post about implementing the TF-IDF features from scratch: https://triton.ml/blog/tf-idf-from-scratch"
   ]
  },
  {
   "cell_type": "code",
   "execution_count": 30,
   "metadata": {},
   "outputs": [],
   "source": [
    "def count_tf(texts, vocab):\n",
    "    arr = np.zeros((len(texts), len(vocab)))\n",
    "    texts = [el.split() for el in texts]\n",
    "    for text_idx in range(len(texts)):\n",
    "        for w in texts[text_idx]:\n",
    "            if w in bow_vocabulary:\n",
    "                arr[text_idx, bow_vocabulary.index(w)] += 1\n",
    "            else:\n",
    "                arr[text_idx, -1] += 1\n",
    "                \n",
    "    return arr / arr.sum(axis=1).reshape(-1, 1)\n",
    "\n",
    "def count_df(texts, vocab):\n",
    "    arr = np.zeros((len(texts), len(vocab)))\n",
    "    texts = [el.split() for el in texts]\n",
    "    for text_idx in range(len(texts)):\n",
    "        for w in texts[text_idx]:\n",
    "            if w in bow_vocabulary:\n",
    "                arr[text_idx, bow_vocabulary.index(w)] = 1\n",
    "            else:\n",
    "                arr[text_idx, -1] = 1\n",
    "                \n",
    "    return arr.sum(axis=0).reshape(-1, 1)\n",
    "\n",
    "def count_tfidf(texts, vocab):\n",
    "    tf = count_tf(texts_train, vocab)\n",
    "    df = count_df(texts_train, vocab).reshape(-1)\n",
    "    idf = np.log(len(texts) / (df + 1))\n",
    "\n",
    "    tfidf = tf * idf\n",
    "    tfidf_normed = tfidf / np.sqrt((tfidf ** 2).sum(axis=1)).reshape(-1, 1)\n",
    "\n",
    "class tfidf_vectorizer():\n",
    "    def __init__(self, vocab):\n",
    "        self.vocab = vocab\n",
    "        \n",
    "    def fit(self, texts):\n",
    "        df = count_df(texts_train, self.vocab).reshape(-1)\n",
    "        self.idf = np.log(len(texts) / (df + 1))\n",
    "        \n",
    "    def transform(self, texts):\n",
    "        tf = count_tf(texts, self.vocab)\n",
    "        tfidf = tf * self.idf\n",
    "        tfidf_normed = tfidf / np.sqrt((tfidf ** 2).sum(axis=1)).reshape(-1, 1)\n",
    "        return tfidf_normed"
   ]
  },
  {
   "cell_type": "markdown",
   "metadata": {},
   "source": [
    "Same stuff about moel and optimizers here (or just omit it, if you are using the same model as before)."
   ]
  },
  {
   "cell_type": "code",
   "execution_count": 116,
   "metadata": {},
   "outputs": [],
   "source": [
    "max_k = 10000\n",
    "k = min(max_k, len(set(' '.join(texts_train).split())))\n",
    "\n",
    "cv = Counter(' '.join(texts_train).split())#<YOUR CODE>\n",
    "\n",
    "bow_vocabulary = [el[0] for el in sorted(cv.items(), key=lambda x:x[1], reverse=True)[:k]]#<YOUR CODE>\n",
    "bow_vocabulary.append('<unknown>')"
   ]
  },
  {
   "cell_type": "code",
   "execution_count": 117,
   "metadata": {},
   "outputs": [],
   "source": [
    "vect = tfidf_vectorizer(bow_vocabulary)\n",
    "vect.fit(texts_train)\n",
    "\n",
    "X_train_tfidf = vect.transform(texts_train)\n",
    "X_test_tfidf = vect.transform(texts_test)"
   ]
  },
  {
   "cell_type": "code",
   "execution_count": 118,
   "metadata": {},
   "outputs": [],
   "source": [
    "X_train_tfidf_torch = torch.tensor(X_train_tfidf).float()\n",
    "X_test_tfidf_torch = torch.tensor(X_test_tfidf).float()\n",
    "\n",
    "y_train_torch = torch.tensor(y_train)\n",
    "y_test_torch = torch.tensor(y_test)"
   ]
  },
  {
   "cell_type": "code",
   "execution_count": 119,
   "metadata": {},
   "outputs": [],
   "source": [
    "inp_shape = X_train_tfidf.shape[1]"
   ]
  },
  {
   "cell_type": "code",
   "execution_count": 120,
   "metadata": {},
   "outputs": [],
   "source": [
    "model = nn.Sequential()\n",
    "\n",
    "model.add_module('l1', nn.Linear(inp_shape, 1000))### YOUR CODE HERE\n",
    "model.add_module('a1', nn.LeakyReLU(1000))\n",
    "model.add_module('l2', nn.Linear(1000, 2))"
   ]
  },
  {
   "cell_type": "code",
   "execution_count": 121,
   "metadata": {},
   "outputs": [],
   "source": [
    "loss_function = nn.CrossEntropyLoss()"
   ]
  },
  {
   "cell_type": "code",
   "execution_count": 122,
   "metadata": {},
   "outputs": [],
   "source": [
    "opt = torch.optim.AdamW(model.parameters(), lr=3e-4)### YOUR CODE HERE\n",
    "lr_scheduler = ReduceLROnPlateau(opt, patience=5)"
   ]
  },
  {
   "cell_type": "code",
   "execution_count": 123,
   "metadata": {},
   "outputs": [
    {
     "data": {
      "image/png": "[encoded data removed]",
      "text/plain": [
       "<Figure size 1080x360 with 2 Axes>"
      ]
     },
     "metadata": {
      "needs_background": "light"
     },
     "output_type": "display_data"
    },
    {
     "data": {
      "text/plain": [
       "Sequential(\n",
       "  (l1): Linear(in_features=5723, out_features=1000, bias=True)\n",
       "  (a1): LeakyReLU(negative_slope=1000)\n",
       "  (l2): Linear(in_features=1000, out_features=2, bias=True)\n",
       ")"
      ]
     },
     "execution_count": 123,
     "metadata": {},
     "output_type": "execute_result"
    }
   ],
   "source": [
    "train_model(model, opt, lr_scheduler, X_train_tfidf_torch, y_train_torch,\n",
    "            X_test_tfidf_torch, y_test_torch, n_iterations=300)"
   ]
  },
  {
   "cell_type": "markdown",
   "metadata": {},
   "source": [
    "Fit your model to the data. No not hesitate to vary number of iterations, learning rate and so on.\n",
    "\n",
    "_Note: due to very small dataset, increasing the complexity of the network might not be the best idea._"
   ]
  },
  {
   "cell_type": "markdown",
   "metadata": {},
   "source": [
    "##### change k"
   ]
  },
  {
   "cell_type": "code",
   "execution_count": 40,
   "metadata": {
    "collapsed": true,
    "jupyter": {
     "outputs_hidden": true
    }
   },
   "outputs": [
    {
     "name": "stdout",
     "output_type": "stream",
     "text": [
      "resetting  l1\n",
      "resetting  a1\n",
      "Cannot reset a1 module parameters: 'LeakyReLU' object has no attribute 'reset_parameters'\n",
      "resetting  l3\n",
      "resetting  l1\n",
      "resetting  a1\n",
      "Cannot reset a1 module parameters: 'LeakyReLU' object has no attribute 'reset_parameters'\n",
      "resetting  l3\n",
      "resetting  l1\n",
      "resetting  a1\n",
      "Cannot reset a1 module parameters: 'LeakyReLU' object has no attribute 'reset_parameters'\n",
      "resetting  l3\n",
      "resetting  l1\n",
      "resetting  a1\n",
      "Cannot reset a1 module parameters: 'LeakyReLU' object has no attribute 'reset_parameters'\n",
      "resetting  l3\n",
      "resetting  l1\n",
      "resetting  a1\n",
      "Cannot reset a1 module parameters: 'LeakyReLU' object has no attribute 'reset_parameters'\n",
      "resetting  l3\n",
      "resetting  l1\n",
      "resetting  a1\n",
      "Cannot reset a1 module parameters: 'LeakyReLU' object has no attribute 'reset_parameters'\n",
      "resetting  l3\n",
      "resetting  l1\n",
      "resetting  a1\n",
      "Cannot reset a1 module parameters: 'LeakyReLU' object has no attribute 'reset_parameters'\n",
      "resetting  l3\n",
      "resetting  l1\n",
      "resetting  a1\n",
      "Cannot reset a1 module parameters: 'LeakyReLU' object has no attribute 'reset_parameters'\n",
      "resetting  l3\n"
     ]
    }
   ],
   "source": [
    "k_arr = range(300, 1500, 150)\n",
    "aucs_train = []\n",
    "aucs_test = []\n",
    "\n",
    "for max_k in k_arr:\n",
    "    k = min(max_k, len(set(' '.join(texts_train).split())))\n",
    "\n",
    "    cv = Counter(' '.join(texts_train).split())#<YOUR CODE>\n",
    "\n",
    "    bow_vocabulary = [el[0] for el in sorted(cv.items(), key=lambda x:x[1], reverse=True)[:k]]#<YOUR CODE>\n",
    "    bow_vocabulary.append('<unknown>')\n",
    "\n",
    "    vect = tfidf_vectorizer(bow_vocabulary)\n",
    "    vect.fit(texts_train)\n",
    "\n",
    "    X_train_tfidf = vect.transform(texts_train)\n",
    "    X_test_tfidf = vect.transform(texts_test)\n",
    "\n",
    "    inp_shape = X_train_tfidf.shape[1]\n",
    "    model = nn.Sequential()\n",
    "    model.add_module('l1', nn.Linear(inp_shape, inp_shape))### YOUR CODE HERE\n",
    "    model.add_module('a1', nn.LeakyReLU(inp_shape))\n",
    "    model.add_module('l3', nn.Linear(inp_shape, 2))\n",
    "\n",
    "    lr_scheduler = ReduceLROnPlateau(opt, patience=5)\n",
    "    loss_function = nn.CrossEntropyLoss()\n",
    "    opt = torch.optim.AdamW(model.parameters(), lr=3e-3)### YOUR CODE HERE\n",
    "    \n",
    "    X_train_tfidf_torch = torch.tensor(X_train_tfidf).float() ### YOUR CODE HERE\n",
    "    X_test_tfidf_torch = torch.tensor(X_test_tfidf).float() ### YOUR CODE HERE\n",
    "    y_train_torch = torch.tensor(y_train) ### YOUR CODE HERE\n",
    "    y_test_torch = torch.tensor(y_test) ### YOUR CODE HERE\n",
    "    \n",
    "    train_model(model, opt, lr_scheduler, X_train_tfidf_torch, y_train_torch,\n",
    "                X_test_tfidf_torch, y_test_torch, show_plots=False)\n",
    "\n",
    "    proba = model(X_test_tfidf_torch).detach().cpu().numpy()[:, 1]\n",
    "    aucs_train.append(roc_auc_score(y_train, model(X_train_tfidf_torch).detach().cpu().numpy()[:, 1]))\n",
    "    aucs_test.append(roc_auc_score(y_test, proba))"
   ]
  },
  {
   "cell_type": "code",
   "execution_count": 41,
   "metadata": {},
   "outputs": [
    {
     "name": "stdout",
     "output_type": "stream",
     "text": [
      "TEST: best vocabulary size: 900, max auc: 0.8366082492476543\n"
     ]
    },
    {
     "data": {
      "image/png": "[encoded data removed]",
      "text/plain": [
       "<Figure size 720x432 with 1 Axes>"
      ]
     },
     "metadata": {
      "needs_background": "light"
     },
     "output_type": "display_data"
    }
   ],
   "source": [
    "print('TEST: best vocabulary size: {}, max auc: {}'.format(k_arr[np.argmax(aucs_test)],\n",
    "                                             np.max(aucs_test)))\n",
    "\n",
    "plt.figure(figsize=(10,6))\n",
    "plt.grid()\n",
    "plt.plot(k_arr, aucs_train, label='auc train')\n",
    "plt.scatter(k_arr, aucs_train)\n",
    "plt.plot(k_arr, aucs_test, label='auc test')\n",
    "plt.scatter(k_arr, aucs_test)\n",
    "plt.xlabel('vocabulary size')\n",
    "plt.ylabel('AUC')\n",
    "plt.legend()\n",
    "plt.show()"
   ]
  },
  {
   "cell_type": "markdown",
   "metadata": {},
   "source": [
    "##### change lr"
   ]
  },
  {
   "cell_type": "code",
   "execution_count": 42,
   "metadata": {
    "collapsed": true,
    "jupyter": {
     "outputs_hidden": true
    }
   },
   "outputs": [
    {
     "name": "stdout",
     "output_type": "stream",
     "text": [
      "resetting  l1\n",
      "resetting  a1\n",
      "Cannot reset a1 module parameters: 'LeakyReLU' object has no attribute 'reset_parameters'\n",
      "resetting  l2\n",
      "resetting  l1\n",
      "resetting  a1\n",
      "Cannot reset a1 module parameters: 'LeakyReLU' object has no attribute 'reset_parameters'\n",
      "resetting  l2\n",
      "resetting  l1\n",
      "resetting  a1\n",
      "Cannot reset a1 module parameters: 'LeakyReLU' object has no attribute 'reset_parameters'\n",
      "resetting  l2\n",
      "resetting  l1\n",
      "resetting  a1\n",
      "Cannot reset a1 module parameters: 'LeakyReLU' object has no attribute 'reset_parameters'\n",
      "resetting  l2\n",
      "resetting  l1\n",
      "resetting  a1\n",
      "Cannot reset a1 module parameters: 'LeakyReLU' object has no attribute 'reset_parameters'\n",
      "resetting  l2\n",
      "resetting  l1\n",
      "resetting  a1\n",
      "Cannot reset a1 module parameters: 'LeakyReLU' object has no attribute 'reset_parameters'\n",
      "resetting  l2\n",
      "resetting  l1\n",
      "resetting  a1\n",
      "Cannot reset a1 module parameters: 'LeakyReLU' object has no attribute 'reset_parameters'\n",
      "resetting  l2\n",
      "resetting  l1\n",
      "resetting  a1\n",
      "Cannot reset a1 module parameters: 'LeakyReLU' object has no attribute 'reset_parameters'\n",
      "resetting  l2\n",
      "resetting  l1\n",
      "resetting  a1\n",
      "Cannot reset a1 module parameters: 'LeakyReLU' object has no attribute 'reset_parameters'\n",
      "resetting  l2\n",
      "resetting  l1\n",
      "resetting  a1\n",
      "Cannot reset a1 module parameters: 'LeakyReLU' object has no attribute 'reset_parameters'\n",
      "resetting  l2\n"
     ]
    }
   ],
   "source": [
    "max_k = 800\n",
    "lr_lins = np.linspace(1e-2, 1e-5, 10)\n",
    "aucs_train = []\n",
    "aucs_test = []\n",
    "\n",
    "k = min(max_k, len(set(' '.join(texts_train).split())))\n",
    "\n",
    "cv = Counter(' '.join(texts_train).split())#<YOUR CODE>\n",
    "\n",
    "bow_vocabulary = [el[0] for el in sorted(cv.items(), key=lambda x:x[1], reverse=True)[:k]]#<YOUR CODE>\n",
    "bow_vocabulary.append('<unknown>')\n",
    "\n",
    "vect = tfidf_vectorizer(bow_vocabulary)\n",
    "vect.fit(texts_train)\n",
    "\n",
    "X_train_tfidf = vect.transform(texts_train)\n",
    "X_test_tfidf = vect.transform(texts_test)\n",
    "\n",
    "for lr in lr_lins:\n",
    "    inp_shape = X_train_tfidf.shape[1]\n",
    "    model = nn.Sequential()\n",
    "    model.add_module('l1', nn.Linear(inp_shape, inp_shape))### YOUR CODE HERE\n",
    "    model.add_module('a1', nn.LeakyReLU(inp_shape))\n",
    "    model.add_module('l2', nn.Linear(inp_shape, 2))\n",
    "\n",
    "    lr_scheduler = ReduceLROnPlateau(opt, patience=5)\n",
    "    loss_function = nn.CrossEntropyLoss()\n",
    "    opt = torch.optim.AdamW(model.parameters(), lr=lr)### YOUR CODE HERE\n",
    "    \n",
    "    X_train_tfidf_torch = torch.tensor(X_train_tfidf).float() ### YOUR CODE HERE\n",
    "    X_test_tfidf_torch = torch.tensor(X_test_tfidf).float() ### YOUR CODE HERE\n",
    "    y_train_torch = torch.tensor(y_train) ### YOUR CODE HERE\n",
    "    y_test_torch = torch.tensor(y_test) ### YOUR CODE HERE\n",
    "    \n",
    "    train_model(model, opt, lr_scheduler, X_train_tfidf_torch, y_train_torch,\n",
    "                X_test_tfidf_torch, y_test_torch, show_plots=False)\n",
    "\n",
    "    proba = model(X_test_tfidf_torch).detach().cpu().numpy()[:, 1]\n",
    "    aucs_train.append(roc_auc_score(y_train, model(X_train_tfidf_torch).detach().cpu().numpy()[:, 1]))\n",
    "    aucs_test.append(roc_auc_score(y_test, proba))"
   ]
  },
  {
   "cell_type": "code",
   "execution_count": 43,
   "metadata": {},
   "outputs": [
    {
     "name": "stdout",
     "output_type": "stream",
     "text": [
      "TEST: best learning rate: 0.00667, max auc: 0.8691482000032186\n"
     ]
    },
    {
     "data": {
      "image/png": "[encoded data removed]",
      "text/plain": [
       "<Figure size 720x432 with 1 Axes>"
      ]
     },
     "metadata": {
      "needs_background": "light"
     },
     "output_type": "display_data"
    }
   ],
   "source": [
    "print('TEST: best learning rate: {}, max auc: {}'.format(lr_lins[np.argmax(aucs_test)],\n",
    "                                             np.max(aucs_test)))\n",
    "\n",
    "plt.figure(figsize=(10,6))\n",
    "plt.grid()\n",
    "plt.plot(lr_lins, aucs_train, label='auc train')\n",
    "plt.scatter(lr_lins, aucs_train)\n",
    "plt.plot(lr_lins, aucs_test, label='auc test')\n",
    "plt.scatter(lr_lins, aucs_test)\n",
    "plt.xlabel('learning rate')\n",
    "plt.ylabel('AUC')\n",
    "plt.legend()\n",
    "plt.show()"
   ]
  },
  {
   "cell_type": "markdown",
   "metadata": {},
   "source": [
    "##### changing epochs ammount"
   ]
  },
  {
   "cell_type": "code",
   "execution_count": 44,
   "metadata": {
    "collapsed": true,
    "jupyter": {
     "outputs_hidden": true
    }
   },
   "outputs": [
    {
     "name": "stdout",
     "output_type": "stream",
     "text": [
      "resetting  l1\n",
      "resetting  a1\n",
      "Cannot reset a1 module parameters: 'LeakyReLU' object has no attribute 'reset_parameters'\n",
      "resetting  l2\n",
      "resetting  l1\n",
      "resetting  a1\n",
      "Cannot reset a1 module parameters: 'LeakyReLU' object has no attribute 'reset_parameters'\n",
      "resetting  l2\n",
      "resetting  l1\n",
      "resetting  a1\n",
      "Cannot reset a1 module parameters: 'LeakyReLU' object has no attribute 'reset_parameters'\n",
      "resetting  l2\n",
      "resetting  l1\n",
      "resetting  a1\n",
      "Cannot reset a1 module parameters: 'LeakyReLU' object has no attribute 'reset_parameters'\n",
      "resetting  l2\n",
      "resetting  l1\n",
      "resetting  a1\n",
      "Cannot reset a1 module parameters: 'LeakyReLU' object has no attribute 'reset_parameters'\n",
      "resetting  l2\n",
      "resetting  l1\n",
      "resetting  a1\n",
      "Cannot reset a1 module parameters: 'LeakyReLU' object has no attribute 'reset_parameters'\n",
      "resetting  l2\n",
      "resetting  l1\n",
      "resetting  a1\n",
      "Cannot reset a1 module parameters: 'LeakyReLU' object has no attribute 'reset_parameters'\n",
      "resetting  l2\n",
      "resetting  l1\n",
      "resetting  a1\n",
      "Cannot reset a1 module parameters: 'LeakyReLU' object has no attribute 'reset_parameters'\n",
      "resetting  l2\n",
      "resetting  l1\n",
      "resetting  a1\n",
      "Cannot reset a1 module parameters: 'LeakyReLU' object has no attribute 'reset_parameters'\n",
      "resetting  l2\n",
      "resetting  l1\n",
      "resetting  a1\n",
      "Cannot reset a1 module parameters: 'LeakyReLU' object has no attribute 'reset_parameters'\n",
      "resetting  l2\n",
      "resetting  l1\n",
      "resetting  a1\n",
      "Cannot reset a1 module parameters: 'LeakyReLU' object has no attribute 'reset_parameters'\n",
      "resetting  l2\n",
      "resetting  l1\n",
      "resetting  a1\n",
      "Cannot reset a1 module parameters: 'LeakyReLU' object has no attribute 'reset_parameters'\n",
      "resetting  l2\n"
     ]
    }
   ],
   "source": [
    "max_k = 800\n",
    "n_iter_lins = np.arange(200, 500, 25)\n",
    "aucs_train = []\n",
    "aucs_test = []\n",
    "\n",
    "k = min(max_k, len(set(' '.join(texts_train).split())))\n",
    "\n",
    "cv = Counter(' '.join(texts_train).split())#<YOUR CODE>\n",
    "\n",
    "bow_vocabulary = [el[0] for el in sorted(cv.items(), key=lambda x:x[1], reverse=True)[:k]]#<YOUR CODE>\n",
    "bow_vocabulary.append('<unknown>')\n",
    "\n",
    "vect = tfidf_vectorizer(bow_vocabulary)\n",
    "vect.fit(texts_train)\n",
    "\n",
    "X_train_tfidf = vect.transform(texts_train)\n",
    "X_test_tfidf = vect.transform(texts_test)\n",
    "\n",
    "for n_iter in n_iter_lins:\n",
    "    inp_shape = X_train_tfidf.shape[1]\n",
    "    model = nn.Sequential()\n",
    "    model.add_module('l1', nn.Linear(inp_shape, inp_shape))### YOUR CODE HERE\n",
    "    model.add_module('a1', nn.LeakyReLU(inp_shape))\n",
    "    model.add_module('l2', nn.Linear(inp_shape, 2))\n",
    "\n",
    "    lr_scheduler = ReduceLROnPlateau(opt, patience=5)\n",
    "    loss_function = nn.CrossEntropyLoss()\n",
    "    opt = torch.optim.AdamW(model.parameters(), lr=0.00556)### YOUR CODE HERE\n",
    "    \n",
    "    X_train_tfidf_torch = torch.tensor(X_train_tfidf).float() ### YOUR CODE HERE\n",
    "    X_test_tfidf_torch = torch.tensor(X_test_tfidf).float() ### YOUR CODE HERE\n",
    "    y_train_torch = torch.tensor(y_train) ### YOUR CODE HERE\n",
    "    y_test_torch = torch.tensor(y_test) ### YOUR CODE HERE\n",
    "    \n",
    "    train_model(model, opt, lr_scheduler, X_train_tfidf_torch, y_train_torch,\n",
    "                X_test_tfidf_torch, y_test_torch, show_plots=False, n_iterations=n_iter)\n",
    "\n",
    "    proba = model(X_test_tfidf_torch).detach().cpu().numpy()[:, 1]\n",
    "    aucs_train.append(roc_auc_score(y_train, model(X_train_tfidf_torch).detach().cpu().numpy()[:, 1]))\n",
    "    aucs_test.append(roc_auc_score(y_test, proba))"
   ]
  },
  {
   "cell_type": "code",
   "execution_count": 45,
   "metadata": {},
   "outputs": [
    {
     "name": "stdout",
     "output_type": "stream",
     "text": [
      "TEST: best n_iter: 450, max auc: 0.8544714269621333\n"
     ]
    },
    {
     "data": {
      "image/png": "[encoded data removed]",
      "text/plain": [
       "<Figure size 720x432 with 1 Axes>"
      ]
     },
     "metadata": {
      "needs_background": "light"
     },
     "output_type": "display_data"
    }
   ],
   "source": [
    "print('TEST: best n_iter: {}, max auc: {}'.format(n_iter_lins[np.argmax(aucs_test)],\n",
    "                                             np.max(aucs_test)))\n",
    "\n",
    "plt.figure(figsize=(10,6))\n",
    "plt.grid()\n",
    "plt.plot(n_iter_lins, aucs_train, label='auc train')\n",
    "plt.scatter(n_iter_lins, aucs_train)\n",
    "plt.plot(n_iter_lins, aucs_test, label='auc test')\n",
    "plt.scatter(n_iter_lins, aucs_test)\n",
    "plt.xlabel('n_iter')\n",
    "plt.ylabel('AUC')\n",
    "plt.legend()\n",
    "plt.show()"
   ]
  },
  {
   "cell_type": "markdown",
   "metadata": {},
   "source": [
    "##### trying make model more complex"
   ]
  },
  {
   "cell_type": "code",
   "execution_count": 46,
   "metadata": {
    "collapsed": true,
    "jupyter": {
     "outputs_hidden": true
    }
   },
   "outputs": [
    {
     "name": "stdout",
     "output_type": "stream",
     "text": [
      "resetting  l1\n",
      "resetting  a1\n",
      "Cannot reset a1 module parameters: 'LeakyReLU' object has no attribute 'reset_parameters'\n",
      "resetting  l2\n",
      "resetting  a2\n",
      "Cannot reset a2 module parameters: 'LeakyReLU' object has no attribute 'reset_parameters'\n",
      "resetting  l3\n",
      "resetting  l1\n",
      "resetting  a1\n",
      "Cannot reset a1 module parameters: 'LeakyReLU' object has no attribute 'reset_parameters'\n",
      "resetting  l2\n",
      "resetting  a2\n",
      "Cannot reset a2 module parameters: 'LeakyReLU' object has no attribute 'reset_parameters'\n",
      "resetting  l3\n",
      "resetting  l1\n",
      "resetting  a1\n",
      "Cannot reset a1 module parameters: 'LeakyReLU' object has no attribute 'reset_parameters'\n",
      "resetting  l2\n",
      "resetting  a2\n",
      "Cannot reset a2 module parameters: 'LeakyReLU' object has no attribute 'reset_parameters'\n",
      "resetting  l3\n",
      "resetting  l1\n",
      "resetting  a1\n",
      "Cannot reset a1 module parameters: 'LeakyReLU' object has no attribute 'reset_parameters'\n",
      "resetting  l2\n",
      "resetting  a2\n",
      "Cannot reset a2 module parameters: 'LeakyReLU' object has no attribute 'reset_parameters'\n",
      "resetting  l3\n",
      "resetting  l1\n",
      "resetting  a1\n",
      "Cannot reset a1 module parameters: 'LeakyReLU' object has no attribute 'reset_parameters'\n",
      "resetting  l2\n",
      "resetting  a2\n",
      "Cannot reset a2 module parameters: 'LeakyReLU' object has no attribute 'reset_parameters'\n",
      "resetting  l3\n",
      "resetting  l1\n",
      "resetting  a1\n",
      "Cannot reset a1 module parameters: 'LeakyReLU' object has no attribute 'reset_parameters'\n",
      "resetting  l2\n",
      "resetting  a2\n",
      "Cannot reset a2 module parameters: 'LeakyReLU' object has no attribute 'reset_parameters'\n",
      "resetting  l3\n",
      "resetting  l1\n",
      "resetting  a1\n",
      "Cannot reset a1 module parameters: 'LeakyReLU' object has no attribute 'reset_parameters'\n",
      "resetting  l2\n",
      "resetting  a2\n",
      "Cannot reset a2 module parameters: 'LeakyReLU' object has no attribute 'reset_parameters'\n",
      "resetting  l3\n",
      "resetting  l1\n",
      "resetting  a1\n",
      "Cannot reset a1 module parameters: 'LeakyReLU' object has no attribute 'reset_parameters'\n",
      "resetting  l2\n",
      "resetting  a2\n",
      "Cannot reset a2 module parameters: 'LeakyReLU' object has no attribute 'reset_parameters'\n",
      "resetting  l3\n",
      "resetting  l1\n",
      "resetting  a1\n",
      "Cannot reset a1 module parameters: 'LeakyReLU' object has no attribute 'reset_parameters'\n",
      "resetting  l2\n",
      "resetting  a2\n",
      "Cannot reset a2 module parameters: 'LeakyReLU' object has no attribute 'reset_parameters'\n",
      "resetting  l3\n"
     ]
    }
   ],
   "source": [
    "k_arr = range(300, 2500, 250)\n",
    "aucs_train = []\n",
    "aucs_test = []\n",
    "\n",
    "for max_k in k_arr:\n",
    "    k = min(max_k, len(set(' '.join(texts_train).split())))\n",
    "\n",
    "    cv = Counter(' '.join(texts_train).split())#<YOUR CODE>\n",
    "\n",
    "    bow_vocabulary = [el[0] for el in sorted(cv.items(), key=lambda x:x[1], reverse=True)[:k]]#<YOUR CODE>\n",
    "    bow_vocabulary.append('<unknown>')\n",
    "\n",
    "    vect = tfidf_vectorizer(bow_vocabulary)\n",
    "    vect.fit(texts_train)\n",
    "\n",
    "    X_train_tfidf = vect.transform(texts_train)\n",
    "    X_test_tfidf = vect.transform(texts_test)\n",
    "\n",
    "    inp_shape = X_train_tfidf.shape[1]\n",
    "    model = nn.Sequential()\n",
    "    model.add_module('l1', nn.Linear(inp_shape, inp_shape))### YOUR CODE HERE\n",
    "    model.add_module('a1', nn.LeakyReLU(inp_shape))\n",
    "    model.add_module('l2', nn.Linear(inp_shape, int(inp_shape / 2)))\n",
    "    model.add_module('a2', nn.LeakyReLU(int(inp_shape / 2)))\n",
    "    model.add_module('l3', nn.Linear(int(inp_shape / 2), 2))\n",
    "\n",
    "    lr_scheduler = ReduceLROnPlateau(opt, patience=5)\n",
    "    loss_function = nn.CrossEntropyLoss()\n",
    "    opt = torch.optim.AdamW(model.parameters(), lr=3e-3)### YOUR CODE HERE\n",
    "    \n",
    "    X_train_tfidf_torch = torch.tensor(X_train_tfidf).float() ### YOUR CODE HERE\n",
    "    X_test_tfidf_torch = torch.tensor(X_test_tfidf).float() ### YOUR CODE HERE\n",
    "    y_train_torch = torch.tensor(y_train) ### YOUR CODE HERE\n",
    "    y_test_torch = torch.tensor(y_test) ### YOUR CODE HERE\n",
    "    \n",
    "    train_model(model, opt, lr_scheduler, X_train_tfidf_torch, y_train_torch,\n",
    "                X_test_tfidf_torch, y_test_torch, show_plots=False)\n",
    "\n",
    "    proba = model(X_test_tfidf_torch).detach().cpu().numpy()[:, 1]\n",
    "    aucs_train.append(roc_auc_score(y_train, model(X_train_tfidf_torch).detach().cpu().numpy()[:, 1]))\n",
    "    aucs_test.append(roc_auc_score(y_test, proba))"
   ]
  },
  {
   "cell_type": "code",
   "execution_count": 47,
   "metadata": {},
   "outputs": [
    {
     "name": "stdout",
     "output_type": "stream",
     "text": [
      "TEST: best vocabulary size: 2050, max auc: 0.847052575677111\n"
     ]
    },
    {
     "data": {
      "image/png": "[encoded data removed]",
      "text/plain": [
       "<Figure size 720x432 with 1 Axes>"
      ]
     },
     "metadata": {
      "needs_background": "light"
     },
     "output_type": "display_data"
    }
   ],
   "source": [
    "print('TEST: best vocabulary size: {}, max auc: {}'.format(k_arr[np.argmax(aucs_test)],\n",
    "                                             np.max(aucs_test)))\n",
    "\n",
    "plt.figure(figsize=(10,6))\n",
    "plt.grid()\n",
    "plt.plot(k_arr, aucs_train, label='auc train')\n",
    "plt.scatter(k_arr, aucs_train)\n",
    "plt.plot(k_arr, aucs_test, label='auc test')\n",
    "plt.scatter(k_arr, aucs_test)\n",
    "plt.xlabel('vocabulary size')\n",
    "plt.ylabel('AUC')\n",
    "plt.legend()\n",
    "plt.show()"
   ]
  },
  {
   "cell_type": "markdown",
   "metadata": {},
   "source": [
    "### Step 3: Comparing it with Naive Bayes\n",
    "\n",
    "Naive Bayes classifier is a good choice for such small problems. Try to tune it for both BOW and TF-iDF features. Compare the results with Logistic Regression."
   ]
  },
  {
   "cell_type": "code",
   "execution_count": 48,
   "metadata": {},
   "outputs": [],
   "source": [
    "from sklearn.naive_bayes import GaussianNB\n",
    "\n",
    "lins = np.linspace(1e-02, 1e-07, 100)\n",
    "aucs_train_gb = []\n",
    "aucs_test_gb = []\n",
    "\n",
    "k = min(800, len(set(' '.join(texts_train).split())))\n",
    "cv = Counter(' '.join(texts_train).split())#<YOUR CODE>\n",
    "bow_vocabulary = [el[0] for el in sorted(cv.items(), key=lambda x:x[1], reverse=True)[:k]]#<YOUR CODE>\n",
    "bow_vocabulary.append('<unknown>')\n",
    "X_train_bow = np.stack(list(map(text_to_bow, texts_train)))\n",
    "X_test_bow = np.stack(list(map(text_to_bow, texts_test)))\n",
    "\n",
    "for v_s in lins:\n",
    "    clf = GaussianNB(var_smoothing=v_s)\n",
    "    clf.fit(X_train_bow, y_train)\n",
    "    aucs_train_gb.append(roc_auc_score(y_train, clf.predict_proba(X_train_bow)[:, 1]))\n",
    "    aucs_test_gb.append(roc_auc_score(y_test, clf.predict_proba(X_test_bow)[:, 1]))"
   ]
  },
  {
   "cell_type": "code",
   "execution_count": 52,
   "metadata": {},
   "outputs": [
    {
     "name": "stdout",
     "output_type": "stream",
     "text": [
      "TEST: best var_smoothing: 0.0003031272727272716, max auc: 0.774859588985983\n"
     ]
    },
    {
     "data": {
      "text/plain": [
       "<matplotlib.legend.Legend at 0x12a9814f0>"
      ]
     },
     "execution_count": 52,
     "metadata": {},
     "output_type": "execute_result"
    },
    {
     "data": {
      "image/png": "[encoded data removed]",
      "text/plain": [
       "<Figure size 720x432 with 1 Axes>"
      ]
     },
     "metadata": {
      "needs_background": "light"
     },
     "output_type": "display_data"
    }
   ],
   "source": [
    "print('TEST: best var_smoothing: {}, max auc: {}'.format(lins[np.argmax(aucs_test_gb)], np.max(aucs_test_gb)))\n",
    "\n",
    "plt.figure(figsize=(10,6))\n",
    "plt.grid()\n",
    "plt.plot(lins, aucs_train_gb, label='auc train')\n",
    "plt.plot(lins, aucs_test_gb, label='auc test')\n",
    "plt.xlabel('k')\n",
    "plt.ylabel('AUC')\n",
    "plt.legend()"
   ]
  },
  {
   "cell_type": "markdown",
   "metadata": {},
   "source": [
    "##### tfidf"
   ]
  },
  {
   "cell_type": "code",
   "execution_count": 79,
   "metadata": {},
   "outputs": [],
   "source": [
    "lins = np.linspace(1000, 1e-02, 100)\n",
    "aucs_train_tfidf_gb = []\n",
    "aucs_test_tfidf_gb = []\n",
    "\n",
    "k = min(800, len(set(' '.join(texts_train).split())))\n",
    "cv = Counter(' '.join(texts_train).split())#<YOUR CODE>\n",
    "bow_vocabulary = [el[0] for el in sorted(cv.items(), key=lambda x:x[1], reverse=True)[:k]]#<YOUR CODE>\n",
    "bow_vocabulary.append('<unknown>')\n",
    "vect = tfidf_vectorizer(bow_vocabulary)\n",
    "vect.fit(texts_train)\n",
    "X_train_tfidf = vect.transform(texts_train)\n",
    "X_test_tfidf = vect.transform(texts_test)\n",
    "\n",
    "for v_s in lins:\n",
    "    clf = GaussianNB(var_smoothing=v_s)\n",
    "    clf.fit(X_train_tfidf, y_train)\n",
    "    aucs_train_tfidf_gb.append(roc_auc_score(y_train, clf.predict_proba(X_train_tfidf)[:, 1]))\n",
    "    aucs_test_tfidf_gb.append(roc_auc_score(y_test, clf.predict_proba(X_test_tfidf)[:, 1]))"
   ]
  },
  {
   "cell_type": "code",
   "execution_count": 80,
   "metadata": {},
   "outputs": [
    {
     "name": "stdout",
     "output_type": "stream",
     "text": [
      "TEST: best var_smoothing: 222.2299999999999, max auc: 0.8441558441558441\n"
     ]
    },
    {
     "data": {
      "text/plain": [
       "<matplotlib.legend.Legend at 0x12c59ccd0>"
      ]
     },
     "execution_count": 80,
     "metadata": {},
     "output_type": "execute_result"
    },
    {
     "data": {
      "image/png": "[encoded data removed]",
      "text/plain": [
       "<Figure size 720x432 with 1 Axes>"
      ]
     },
     "metadata": {
      "needs_background": "light"
     },
     "output_type": "display_data"
    }
   ],
   "source": [
    "print('TEST: best var_smoothing: {}, max auc: {}'.format(lins[np.argmax(aucs_test_tfidf_gb)],\n",
    "                                                         np.max(aucs_test_tfidf_gb)))\n",
    "\n",
    "plt.figure(figsize=(10,6))\n",
    "plt.grid()\n",
    "plt.plot(lins, aucs_train_tfidf_gb, label='auc train')\n",
    "plt.plot(lins, aucs_test_tfidf_gb, label='auc test')\n",
    "plt.xlabel('k')\n",
    "plt.ylabel('AUC')\n",
    "plt.legend()"
   ]
  },
  {
   "cell_type": "markdown",
   "metadata": {},
   "source": [
    "Shape some thoughts on the results you aquired. Which model has show the best performance? Did changing the learning rate/lr scheduler help?"
   ]
  },
  {
   "cell_type": "markdown",
   "metadata": {},
   "source": [
    "* Лучший roc auc для модели на BOW признаках: 0.849\n",
    "* Лучший roc auc для модели на TF-iDF признаках: 0.869\n",
    "* Наивный байес на BOW признаках(0.775) показал себя хуже, чем на TF-iDF признаках (0.844)\n",
    "* Изменения learning rate, количества слов в словаре, количества итераций оказывает влияние на качество модели\n",
    "* lr scheduler я пробовал отключать, качество это не улучшило.\n",
    "* Результаты получаются неустойчивыми, то есть при перезапуске меняется оптимальное значение параметра."
   ]
  },
  {
   "cell_type": "markdown",
   "metadata": {},
   "source": [
    "Далее проведен эксперимент с dropout. В train_model добавлены model.train() и model.eval(). Это немного улучшило качество, если сравнивать с аналогичной моделью без dropout."
   ]
  },
  {
   "cell_type": "code",
   "execution_count": 142,
   "metadata": {},
   "outputs": [],
   "source": [
    "def train_model(\n",
    "    model,\n",
    "    opt,\n",
    "    lr_scheduler,\n",
    "    X_train_torch,\n",
    "    y_train_torch,\n",
    "    X_val_torch,\n",
    "    y_val_torch,\n",
    "    n_iterations=500,\n",
    "    batch_size=32,\n",
    "    warm_start=False,\n",
    "    show_plots=True,\n",
    "    eval_every=10\n",
    "):\n",
    "    if not warm_start:\n",
    "        for name, module in model.named_children():\n",
    "            print('resetting ', name)\n",
    "            try:\n",
    "                module.reset_parameters()\n",
    "            except AttributeError as e:\n",
    "                print('Cannot reset {} module parameters: {}'.format(name, e))\n",
    "\n",
    "    train_loss_history = []\n",
    "    train_acc_history = []\n",
    "    val_loss_history = []\n",
    "    val_acc_history = []\n",
    "\n",
    "    local_train_loss_history = []\n",
    "    local_train_acc_history = []\n",
    "    for i in range(n_iterations):\n",
    "        model.train()\n",
    "\n",
    "        # sample 256 random observations\n",
    "        ix = np.random.randint(0, len(X_train_torch), batch_size)\n",
    "        x_batch = X_train_torch[ix]\n",
    "        y_batch = y_train_torch[ix]\n",
    "\n",
    "        # predict log-probabilities or logits\n",
    "        y_predicted = model(x_batch) ### YOUR CODE\n",
    "\n",
    "        # compute loss, just like before\n",
    "        ### YOUR CODE\n",
    "        loss = loss_function(y_predicted, y_batch)\n",
    "\n",
    "        # compute gradients\n",
    "        ### YOUR CODE\n",
    "        loss.backward()\n",
    "\n",
    "        # Adam step\n",
    "        ### YOUR CODE\n",
    "        opt.step()\n",
    "\n",
    "        # clear gradients\n",
    "        ### YOUR CODE\n",
    "        opt.zero_grad()\n",
    "\n",
    "        local_train_loss_history.append(loss.data.numpy())\n",
    "        local_train_acc_history.append(\n",
    "            accuracy_score(\n",
    "                y_batch.to('cpu').detach().numpy(),\n",
    "                y_predicted.to('cpu').detach().numpy().argmax(axis=1)\n",
    "            )\n",
    "        )\n",
    "\n",
    "        if i % eval_every == 0:\n",
    "            model.eval()\n",
    "            train_loss_history.append(np.mean(local_train_loss_history))\n",
    "            train_acc_history.append(np.mean(local_train_acc_history))\n",
    "            local_train_loss_history, local_train_acc_history = [], []\n",
    "\n",
    "            predictions_val = model(X_val_torch)\n",
    "            val_loss_history.append(loss_function(predictions_val, y_val_torch).to('cpu').detach().item())\n",
    "\n",
    "            acc_score_val = accuracy_score(y_val_torch.cpu().numpy(), predictions_val.to('cpu').detach().numpy().argmax(axis=1))\n",
    "            val_acc_history.append(acc_score_val)\n",
    "            lr_scheduler.step(train_loss_history[-1])\n",
    "\n",
    "            if show_plots:\n",
    "                display.clear_output(wait=True)\n",
    "                plot_train_process(train_loss_history, val_loss_history, train_acc_history, val_acc_history)\n",
    "    return model"
   ]
  },
  {
   "cell_type": "code",
   "execution_count": 143,
   "metadata": {},
   "outputs": [],
   "source": [
    "max_k = 10000\n",
    "k = min(max_k, len(set(' '.join(texts_train).split())))\n",
    "\n",
    "cv = Counter(' '.join(texts_train).split())#<YOUR CODE>\n",
    "\n",
    "bow_vocabulary = [el[0] for el in sorted(cv.items(), key=lambda x:x[1], reverse=True)[:k]]#<YOUR CODE>\n",
    "bow_vocabulary.append('<unknown>')\n",
    "\n",
    "vect = tfidf_vectorizer(bow_vocabulary)\n",
    "vect.fit(texts_train)\n",
    "\n",
    "X_train_tfidf = vect.transform(texts_train)\n",
    "X_test_tfidf = vect.transform(texts_test)\n",
    "\n",
    "X_train_tfidf_torch = torch.tensor(X_train_tfidf).float()\n",
    "X_test_tfidf_torch = torch.tensor(X_test_tfidf).float()\n",
    "\n",
    "y_train_torch = torch.tensor(y_train)\n",
    "y_test_torch = torch.tensor(y_test)\n",
    "\n",
    "inp_shape = X_train_tfidf.shape[1]\n",
    "\n",
    "model = nn.Sequential()\n",
    "\n",
    "model.add_module('l1', nn.Linear(inp_shape, 1000))### YOUR CODE HERE\n",
    "model.add_module('d1', nn.Dropout(p=0.8))\n",
    "model.add_module('a1', nn.LeakyReLU(1000))\n",
    "\n",
    "model.add_module('l2', nn.Linear(1000, 300))\n",
    "model.add_module('a2', nn.LeakyReLU(300))\n",
    "\n",
    "model.add_module('l3', nn.Linear(300, 2))\n",
    "\n",
    "loss_function = nn.CrossEntropyLoss()\n",
    "\n",
    "opt = torch.optim.AdamW(model.parameters(), lr=3e-4)### YOUR CODE HERE\n",
    "lr_scheduler = ReduceLROnPlateau(opt, patience=5)"
   ]
  },
  {
   "cell_type": "code",
   "execution_count": 144,
   "metadata": {},
   "outputs": [
    {
     "data": {
      "image/png": "[encoded data removed]",
      "text/plain": [
       "<Figure size 1080x360 with 2 Axes>"
      ]
     },
     "metadata": {
      "needs_background": "light"
     },
     "output_type": "display_data"
    },
    {
     "data": {
      "text/plain": [
       "Sequential(\n",
       "  (l1): Linear(in_features=5723, out_features=1000, bias=True)\n",
       "  (d1): Dropout(p=0.8, inplace=False)\n",
       "  (a1): LeakyReLU(negative_slope=1000)\n",
       "  (l2): Linear(in_features=1000, out_features=300, bias=True)\n",
       "  (a2): LeakyReLU(negative_slope=300)\n",
       "  (l3): Linear(in_features=300, out_features=2, bias=True)\n",
       ")"
      ]
     },
     "execution_count": 144,
     "metadata": {},
     "output_type": "execute_result"
    }
   ],
   "source": [
    "train_model(model, opt, lr_scheduler, X_train_tfidf_torch, y_train_torch,\n",
    "            X_test_tfidf_torch, y_test_torch, n_iterations=300)"
   ]
  },
  {
   "cell_type": "code",
   "execution_count": 145,
   "metadata": {},
   "outputs": [],
   "source": [
    "max_k = 10000\n",
    "k = min(max_k, len(set(' '.join(texts_train).split())))\n",
    "\n",
    "cv = Counter(' '.join(texts_train).split())#<YOUR CODE>\n",
    "\n",
    "bow_vocabulary = [el[0] for el in sorted(cv.items(), key=lambda x:x[1], reverse=True)[:k]]#<YOUR CODE>\n",
    "bow_vocabulary.append('<unknown>')\n",
    "\n",
    "vect = tfidf_vectorizer(bow_vocabulary)\n",
    "vect.fit(texts_train)\n",
    "\n",
    "X_train_tfidf = vect.transform(texts_train)\n",
    "X_test_tfidf = vect.transform(texts_test)\n",
    "\n",
    "X_train_tfidf_torch = torch.tensor(X_train_tfidf).float()\n",
    "X_test_tfidf_torch = torch.tensor(X_test_tfidf).float()\n",
    "\n",
    "y_train_torch = torch.tensor(y_train)\n",
    "y_test_torch = torch.tensor(y_test)\n",
    "\n",
    "inp_shape = X_train_tfidf.shape[1]\n",
    "\n",
    "model = nn.Sequential()\n",
    "\n",
    "model.add_module('l1', nn.Linear(inp_shape, 1000))### YOUR CODE HERE\n",
    "# model.add_module('d1', nn.Dropout(p=0.8))\n",
    "model.add_module('a1', nn.LeakyReLU(1000))\n",
    "\n",
    "model.add_module('l2', nn.Linear(1000, 300))\n",
    "model.add_module('a2', nn.LeakyReLU(300))\n",
    "\n",
    "model.add_module('l3', nn.Linear(300, 2))\n",
    "\n",
    "loss_function = nn.CrossEntropyLoss()\n",
    "\n",
    "opt = torch.optim.AdamW(model.parameters(), lr=3e-4)### YOUR CODE HERE\n",
    "lr_scheduler = ReduceLROnPlateau(opt, patience=5)"
   ]
  },
  {
   "cell_type": "code",
   "execution_count": 146,
   "metadata": {},
   "outputs": [
    {
     "data": {
      "image/png": "[encoded data removed]",
      "text/plain": [
       "<Figure size 1080x360 with 2 Axes>"
      ]
     },
     "metadata": {
      "needs_background": "light"
     },
     "output_type": "display_data"
    },
    {
     "data": {
      "text/plain": [
       "Sequential(\n",
       "  (l1): Linear(in_features=5723, out_features=1000, bias=True)\n",
       "  (a1): LeakyReLU(negative_slope=1000)\n",
       "  (l2): Linear(in_features=1000, out_features=300, bias=True)\n",
       "  (a2): LeakyReLU(negative_slope=300)\n",
       "  (l3): Linear(in_features=300, out_features=2, bias=True)\n",
       ")"
      ]
     },
     "execution_count": 146,
     "metadata": {},
     "output_type": "execute_result"
    }
   ],
   "source": [
    "train_model(model, opt, lr_scheduler, X_train_tfidf_torch, y_train_torch,\n",
    "            X_test_tfidf_torch, y_test_torch, n_iterations=300)"
   ]
  },
  {
   "cell_type": "markdown",
   "metadata": {},
   "source": [
    "### Step 4: Using the external knowledge.\n",
    "\n",
    "Use the `gensim` word2vec pretrained model to translate words into vectors. Use several models with this new encoding technique. Compare the results, share your thoughts."
   ]
  },
  {
   "cell_type": "code",
   "execution_count": 14,
   "metadata": {},
   "outputs": [],
   "source": [
    "import gensim.downloader as api\n",
    "model = api.load('glove-twitter-25')"
   ]
  },
  {
   "cell_type": "code",
   "execution_count": 15,
   "metadata": {},
   "outputs": [],
   "source": [
    "def get_phrase_embedding(phrase):\n",
    "    \"\"\"\n",
    "    Convert phrase to a vector by aggregating it's word embeddings. See description above.\n",
    "    \"\"\"\n",
    "    # 1. lowercase phrase\n",
    "    # 2. tokenize phrase\n",
    "    # 3. average word vectors for all words in tokenized phrase\n",
    "    # skip words that are not in model's vocabulary\n",
    "    # if all words are missing from vocabulary, return zeros\n",
    "    \n",
    "    vector = np.zeros([model.vector_size], dtype='float32')\n",
    "    phrase_tokenized = tokenizer.tokenize(phrase.lower())# YOUR CODE HERE\n",
    "    phrase_vectors = [model[x] for x in phrase_tokenized if x in model.vocab.keys()]\n",
    "\n",
    "    if len(phrase_vectors) != 0:\n",
    "        vector = np.mean(phrase_vectors, axis=0)\n",
    "    \n",
    "    return vector"
   ]
  },
  {
   "cell_type": "markdown",
   "metadata": {},
   "source": [
    "#### GaussianNB"
   ]
  },
  {
   "cell_type": "code",
   "execution_count": 108,
   "metadata": {},
   "outputs": [],
   "source": [
    "from sklearn.naive_bayes import GaussianNB\n",
    "\n",
    "lins = np.linspace(2, 0, 100)\n",
    "aucs_train_gb = []\n",
    "aucs_test_gb = []\n",
    "\n",
    "X_train_w2v = np.array([get_phrase_embedding(phrase) for phrase in texts_train])\n",
    "X_test_w2v = np.array([get_phrase_embedding(phrase) for phrase in texts_test])\n",
    "\n",
    "for v_s in lins:\n",
    "    clf = GaussianNB(var_smoothing=v_s)\n",
    "    clf.fit(X_train_w2v, y_train)\n",
    "    aucs_train_gb.append(roc_auc_score(y_train, clf.predict_proba(X_train_w2v)[:, 1]))\n",
    "    aucs_test_gb.append(roc_auc_score(y_test, clf.predict_proba(X_test_w2v)[:, 1]))"
   ]
  },
  {
   "cell_type": "code",
   "execution_count": 109,
   "metadata": {},
   "outputs": [
    {
     "name": "stdout",
     "output_type": "stream",
     "text": [
      "TEST: best var_smoothing: 0.7474747474747474, max auc: 0.840470557942677\n"
     ]
    },
    {
     "data": {
      "text/plain": [
       "<matplotlib.legend.Legend at 0x147bbd910>"
      ]
     },
     "execution_count": 109,
     "metadata": {},
     "output_type": "execute_result"
    },
    {
     "data": {
      "image/png": "[encoded data removed]",
      "text/plain": [
       "<Figure size 720x432 with 1 Axes>"
      ]
     },
     "metadata": {
      "needs_background": "light"
     },
     "output_type": "display_data"
    }
   ],
   "source": [
    "print('TEST: best var_smoothing: {}, max auc: {}'.format(lins[np.argmax(aucs_test_gb)], np.max(aucs_test_gb)))\n",
    "\n",
    "plt.figure(figsize=(10,6))\n",
    "plt.grid()\n",
    "plt.plot(lins, aucs_train_gb, label='auc train')\n",
    "plt.plot(lins, aucs_test_gb, label='auc test')\n",
    "plt.xlabel('k')\n",
    "plt.ylabel('AUC')\n",
    "plt.legend()"
   ]
  },
  {
   "cell_type": "markdown",
   "metadata": {},
   "source": [
    "#### LogisticRegression"
   ]
  },
  {
   "cell_type": "code",
   "execution_count": 117,
   "metadata": {},
   "outputs": [],
   "source": [
    "from sklearn.linear_model import LogisticRegression\n",
    "\n",
    "lins = np.linspace(0.01, 3, 100)\n",
    "aucs_train_gb = []\n",
    "aucs_test_gb = []\n",
    "\n",
    "X_train_w2v = np.array([get_phrase_embedding(phrase) for phrase in texts_train])\n",
    "X_test_w2v = np.array([get_phrase_embedding(phrase) for phrase in texts_test])\n",
    "\n",
    "for c in lins:\n",
    "    clf = LogisticRegression(C=c)\n",
    "    clf.fit(X_train_w2v, y_train)\n",
    "    aucs_train_gb.append(roc_auc_score(y_train, clf.predict_proba(X_train_w2v)[:, 1]))\n",
    "    aucs_test_gb.append(roc_auc_score(y_test, clf.predict_proba(X_test_w2v)[:, 1]))"
   ]
  },
  {
   "cell_type": "code",
   "execution_count": 118,
   "metadata": {},
   "outputs": [
    {
     "name": "stdout",
     "output_type": "stream",
     "text": [
      "TEST: best C: 2.667777777777778, max auc: 0.8828593958705484\n"
     ]
    },
    {
     "data": {
      "text/plain": [
       "<matplotlib.legend.Legend at 0x14a277cd0>"
      ]
     },
     "execution_count": 118,
     "metadata": {},
     "output_type": "execute_result"
    },
    {
     "data": {
      "image/png": "[encoded data removed]",
      "text/plain": [
       "<Figure size 720x432 with 1 Axes>"
      ]
     },
     "metadata": {
      "needs_background": "light"
     },
     "output_type": "display_data"
    }
   ],
   "source": [
    "print('TEST: best C: {}, max auc: {}'.format(lins[np.argmax(aucs_test_gb)], np.max(aucs_test_gb)))\n",
    "\n",
    "plt.figure(figsize=(10,6))\n",
    "plt.grid()\n",
    "plt.plot(lins, aucs_train_gb, label='auc train')\n",
    "plt.plot(lins, aucs_test_gb, label='auc test')\n",
    "plt.xlabel('c')\n",
    "plt.ylabel('AUC')\n",
    "plt.legend()"
   ]
  },
  {
   "cell_type": "markdown",
   "metadata": {},
   "source": [
    "#### RandomForest"
   ]
  },
  {
   "cell_type": "code",
   "execution_count": 115,
   "metadata": {},
   "outputs": [],
   "source": [
    "from sklearn.ensemble import RandomForestClassifier\n",
    "\n",
    "lins = np.linspace(50, 500, 20)\n",
    "aucs_train_gb = []\n",
    "aucs_test_gb = []\n",
    "\n",
    "X_train_w2v = np.array([get_phrase_embedding(phrase) for phrase in texts_train])\n",
    "X_test_w2v = np.array([get_phrase_embedding(phrase) for phrase in texts_test])\n",
    "\n",
    "for n_est in lins:\n",
    "    clf = RandomForestClassifier(n_estimators=int(n_est), random_state=21)\n",
    "    clf.fit(X_train_w2v, y_train)\n",
    "    train_probs = clf.predict_proba(X_train_w2v)[:, 1]\n",
    "    test_probs = clf.predict_proba(X_test_w2v)[:, 1]\n",
    "    aucs_train_gb.append(roc_auc_score(y_train, train_probs))\n",
    "    aucs_test_gb.append(roc_auc_score(y_test, test_probs))"
   ]
  },
  {
   "cell_type": "code",
   "execution_count": 116,
   "metadata": {},
   "outputs": [
    {
     "name": "stdout",
     "output_type": "stream",
     "text": [
      "TEST: best n_estimators: 357.89473684210526, max auc: 0.8649801252031736\n"
     ]
    },
    {
     "data": {
      "text/plain": [
       "<matplotlib.legend.Legend at 0x14a256550>"
      ]
     },
     "execution_count": 116,
     "metadata": {},
     "output_type": "execute_result"
    },
    {
     "data": {
      "image/png": "[encoded data removed]",
      "text/plain": [
       "<Figure size 720x432 with 1 Axes>"
      ]
     },
     "metadata": {
      "needs_background": "light"
     },
     "output_type": "display_data"
    }
   ],
   "source": [
    "print('TEST: best n_estimators: {}, max auc: {}'.format(lins[np.argmax(aucs_test_gb)], np.max(aucs_test_gb)))\n",
    "\n",
    "plt.figure(figsize=(10,6))\n",
    "plt.grid()\n",
    "plt.plot(lins, aucs_train_gb, label='auc train')\n",
    "plt.plot(lins, aucs_test_gb, label='auc test')\n",
    "plt.xlabel('c')\n",
    "plt.ylabel('AUC')\n",
    "plt.legend()"
   ]
  },
  {
   "cell_type": "markdown",
   "metadata": {},
   "source": [
    "#### CatBoost"
   ]
  },
  {
   "cell_type": "code",
   "execution_count": 138,
   "metadata": {},
   "outputs": [],
   "source": [
    "from catboost import CatBoostClassifier, Pool\n",
    "\n",
    "lins = ['CrossEntropy', 'Logloss']\n",
    "aucs_train_gb = []\n",
    "aucs_test_gb = []\n",
    "\n",
    "X_train_w2v = np.array([get_phrase_embedding(phrase) for phrase in texts_train])\n",
    "X_test_w2v = np.array([get_phrase_embedding(phrase) for phrase in texts_test])\n",
    "\n",
    "for lf in lins:\n",
    "    clf = CatBoostClassifier(loss_function=lf, verbose=0)\n",
    "    clf.fit(X_train_w2v, y_train)\n",
    "    train_probs = clf.predict_proba(X_train_w2v)[:, 1]\n",
    "    test_probs = clf.predict_proba(X_test_w2v)[:, 1]\n",
    "    aucs_train_gb.append(roc_auc_score(y_train, train_probs))\n",
    "    aucs_test_gb.append(roc_auc_score(y_test, test_probs))"
   ]
  },
  {
   "cell_type": "code",
   "execution_count": 139,
   "metadata": {},
   "outputs": [
    {
     "name": "stdout",
     "output_type": "stream",
     "text": [
      "TEST: best var_smoothing: Logloss, max auc: 0.8781280677191458\n"
     ]
    },
    {
     "data": {
      "text/plain": [
       "<matplotlib.legend.Legend at 0x11ec2cca0>"
      ]
     },
     "execution_count": 139,
     "metadata": {},
     "output_type": "execute_result"
    },
    {
     "data": {
      "image/png": "[encoded data removed]",
      "text/plain": [
       "<Figure size 720x432 with 1 Axes>"
      ]
     },
     "metadata": {
      "needs_background": "light"
     },
     "output_type": "display_data"
    }
   ],
   "source": [
    "print('TEST: best var_smoothing: {}, max auc: {}'.format(lins[np.argmax(aucs_test_gb)], np.max(aucs_test_gb)))\n",
    "\n",
    "plt.figure(figsize=(10,6))\n",
    "plt.grid()\n",
    "plt.plot(lins, aucs_train_gb, label='auc train')\n",
    "plt.plot(lins, aucs_test_gb, label='auc test')\n",
    "plt.xlabel('loss function')\n",
    "plt.ylabel('AUC')\n",
    "plt.legend()"
   ]
  },
  {
   "cell_type": "markdown",
   "metadata": {},
   "source": [
    "* Наивный байес на word2vec показал не тесте 0.84\n",
    "* Логистическая регрессия 0.882, это был лучший скор, который удалось достичь\n",
    "* RandomForest 0.865\n",
    "* Catboost 0.878\n",
    "\n",
    "В предыдущих пунктах лучший скор был дотсигнут на TF-iDF(0.869), на word2vec удалось достичь большего. Однако, если использовать word2vec большей размерности, то удалось бы достичь большего качества."
   ]
  }
 ],
 "metadata": {
  "kernelspec": {
   "display_name": "pyvenv",
   "language": "python",
   "name": "pyvenv"
  },
  "language_info": {
   "codemirror_mode": {
    "name": "ipython",
    "version": 3
   },
   "file_extension": ".py",
   "mimetype": "text/x-python",
   "name": "python",
   "nbconvert_exporter": "python",
   "pygments_lexer": "ipython3",
   "version": "3.8.2"
  }
 },
 "nbformat": 4,
 "nbformat_minor": 4
}
