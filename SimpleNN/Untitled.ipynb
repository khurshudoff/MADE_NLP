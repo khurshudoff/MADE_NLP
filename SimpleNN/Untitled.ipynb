{
 "cells": [
  {
   "cell_type": "code",
   "execution_count": 62,
   "metadata": {},
   "outputs": [],
   "source": [
    "import numpy as np\n",
    "import pandas as pd\n",
    "import matplotlib.pyplot as plt\n",
    "import random as rd\n",
    "\n",
    "import torch\n",
    "from torch import nn\n",
    "import torch.nn.functional as F\n",
    "from torch.optim.lr_scheduler import ReduceLROnPlateau"
   ]
  },
  {
   "cell_type": "code",
   "execution_count": 63,
   "metadata": {},
   "outputs": [],
   "source": [
    "def f(x, y):\n",
    "    noise = (rd.random()-.5) * 2\n",
    "    return x**2 + y**3 + noise"
   ]
  },
  {
   "cell_type": "code",
   "execution_count": 64,
   "metadata": {},
   "outputs": [],
   "source": [
    "x_train = [[(rd.random()-.5) * 5, (rd.random()-.5) * 5] for _ in range(100)]\n",
    "y_train = [f(x[0], x[1]) for x in x_train]\n",
    "\n",
    "x_test = [[(rd.random()-.5) * 5, (rd.random()-.5) * 5] for _ in range(20)]\n",
    "y_test = [f(x[0], x[1]) for x in x_test]"
   ]
  },
  {
   "cell_type": "code",
   "execution_count": 65,
   "metadata": {},
   "outputs": [],
   "source": [
    "class SimpleNN(nn.Module):\n",
    "    def __init__(self):\n",
    "        super(self.__class__, self).__init__()\n",
    "        self.linear1 = nn.Linear(2, 100)\n",
    "        self.relu1 = nn.ReLU(100)\n",
    "        self.linear2 = nn.Linear(100, 2)\n",
    "        self.relu2 = nn.ReLU(2)\n",
    "        self.linear3 = nn.Linear(2, 1)\n",
    "\n",
    "    def forward(self, x):\n",
    "        x = self.linear1(x)\n",
    "        x = self.relu1(x)\n",
    "        x = self.linear2(x)\n",
    "        x = self.relu2(x)\n",
    "        res = self.linear3(x)\n",
    "        return res"
   ]
  },
  {
   "cell_type": "code",
   "execution_count": 66,
   "metadata": {},
   "outputs": [],
   "source": [
    "model = SimpleNN()\n",
    "opt = torch.optim.Adam(model.parameters())\n",
    "lr_sched = ReduceLROnPlateau(opt, factor=0.3)\n",
    "criterion = nn.MSELoss()"
   ]
  },
  {
   "cell_type": "code",
   "execution_count": 67,
   "metadata": {},
   "outputs": [],
   "source": [
    "x_train_batched = [x_train[i * 10:(i + 1) * 10] for i in range(len(x_train) // 10)]\n",
    "y_train_batched = [y_train[i * 10:(i + 1) * 10] for i in range(len(x_train) // 10)]\n",
    "\n",
    "x_test_batched = [x_test[i * 10:(i + 1) * 10] for i in range(len(x_test) // 10)]\n",
    "y_test_batched = [y_test[i * 10:(i + 1) * 10] for i in range(len(x_test) // 10)]\n",
    "\n",
    "loss_arr = []\n",
    "loss_arr_test = []"
   ]
  },
  {
   "cell_type": "code",
   "execution_count": 72,
   "metadata": {},
   "outputs": [],
   "source": [
    "ITER = 1000\n",
    "\n",
    "for it in range(ITER):\n",
    "    iter_loss = 0\n",
    "    iter_loss_test = 0\n",
    "    for i in range(len(x_train_batched)):\n",
    "        x = x_train_batched[i]\n",
    "        y = y_train_batched[i]\n",
    "        \n",
    "        x = torch.tensor(x)\n",
    "        y = torch.tensor(y).view(-1, 1)\n",
    "        \n",
    "        pred = model.forward(x)\n",
    "        \n",
    "        loss = criterion(pred, y)\n",
    "        iter_loss += loss.detach().numpy() / len(x)\n",
    "        \n",
    "        loss.backward()\n",
    "        opt.step()\n",
    "        opt.zero_grad()\n",
    "    loss_arr.append(iter_loss)\n",
    "    \n",
    "    for i in range(len(x_test_batched)):\n",
    "        x = x_test_batched[i]\n",
    "        y = y_test_batched[i]\n",
    "        \n",
    "        x = torch.tensor(x)\n",
    "        y = torch.tensor(y).view(-1, 1)\n",
    "        \n",
    "        pred = model.forward(x)\n",
    "        \n",
    "        loss = criterion(pred, y)\n",
    "        iter_loss_test += loss.detach().numpy() / len(x)\n",
    "    \n",
    "    loss_arr_test.append(iter_loss_test)"
   ]
  },
  {
   "cell_type": "code",
   "execution_count": 75,
   "metadata": {},
   "outputs": [
    {
     "name": "stdout",
     "output_type": "stream",
     "text": [
      "[0.15914814546704292, 0.15926043465733528, 0.1591615471988916, 0.1593056660145521, 0.15912656299769878]\n",
      "[0.15506997108459475, 0.15518367886543272, 0.15539100766181946, 0.15493202805519105, 0.15487951040267944]\n"
     ]
    },
    {
     "data": {
      "image/png": "[encoded data removed]",
      "text/plain": [
       "<Figure size 1080x576 with 1 Axes>"
      ]
     },
     "metadata": {
      "needs_background": "light"
     },
     "output_type": "display_data"
    }
   ],
   "source": [
    "plt.figure(figsize=(15, 8))\n",
    "plt.plot(loss_arr[100:])\n",
    "plt.plot(loss_arr_test[100:])\n",
    "print(loss_arr[-5:])\n",
    "print(loss_arr_test[-5:])"
   ]
  },
  {
   "cell_type": "code",
   "execution_count": 74,
   "metadata": {},
   "outputs": [
    {
     "data": {
      "text/plain": [
       "(tensor([17.0102], grad_fn=<AddBackward0>), 17.41805018219678)"
      ]
     },
     "execution_count": 74,
     "metadata": {},
     "output_type": "execute_result"
    }
   ],
   "source": [
    "model.forward(torch.tensor(x_train[10])), y_train[10]"
   ]
  },
  {
   "cell_type": "code",
   "execution_count": null,
   "metadata": {},
   "outputs": [],
   "source": []
  }
 ],
 "metadata": {
  "kernelspec": {
   "display_name": "pyvenv",
   "language": "python",
   "name": "pyvenv"
  },
  "language_info": {
   "codemirror_mode": {
    "name": "ipython",
    "version": 3
   },
   "file_extension": ".py",
   "mimetype": "text/x-python",
   "name": "python",
   "nbconvert_exporter": "python",
   "pygments_lexer": "ipython3",
   "version": "3.8.2"
  }
 },
 "nbformat": 4,
 "nbformat_minor": 4
}
